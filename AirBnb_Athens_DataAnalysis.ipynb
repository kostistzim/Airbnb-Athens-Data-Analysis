{
  "nbformat": 4,
  "nbformat_minor": 0,
  "metadata": {
    "colab": {
      "provenance": [],
      "authorship_tag": "ABX9TyPDR0AAx/yp4TFirFrA8oEr",
      "include_colab_link": true
    },
    "kernelspec": {
      "name": "python3",
      "display_name": "Python 3"
    },
    "language_info": {
      "name": "python"
    }
  },
  "cells": [
    {
      "cell_type": "markdown",
      "metadata": {
        "id": "view-in-github",
        "colab_type": "text"
      },
      "source": [
        "<a href=\"https://colab.research.google.com/github/kostistzim/Airbnb-Athens-Data-Analysis/blob/main/AirBnb_Athens_DataAnalysis.ipynb\" target=\"_parent\"><img src=\"https://colab.research.google.com/assets/colab-badge.svg\" alt=\"Open In Colab\"/></a>"
      ]
    },
    {
      "cell_type": "code",
      "source": [
        "import numpy as np\n",
        "import pandas as pd\n",
        "import matplotlib.pyplot as plt\n",
        "import matplotlib.image as mpimg\n",
        "%matplotlib inline\n",
        "import seaborn as sns\n",
        "import warnings\n",
        "warnings.filterwarnings('ignore')\n",
        "\n",
        "\n",
        "\n",
        "\n"
      ],
      "metadata": {
        "id": "vHnwJSP_x5Z0"
      },
      "execution_count": 145,
      "outputs": []
    },
    {
      "cell_type": "code",
      "execution_count": 146,
      "metadata": {
        "colab": {
          "base_uri": "https://localhost:8080/"
        },
        "id": "29SsK1-wu-vB",
        "outputId": "3b22193f-8692-4598-9fd4-03872f835500"
      },
      "outputs": [
        {
          "output_type": "stream",
          "name": "stdout",
          "text": [
            "Drive already mounted at /content/drive; to attempt to forcibly remount, call drive.mount(\"/content/drive\", force_remount=True).\n"
          ]
        }
      ],
      "source": [
        "from google.colab import drive\n",
        "drive.mount('/content/drive')\n"
      ]
    },
    {
      "cell_type": "code",
      "source": [
        "listings = pd.read_csv('/content/drive/MyDrive/airbnbanalysis/listings.csv')\n",
        "\n",
        "list(listings.columns)"
      ],
      "metadata": {
        "colab": {
          "base_uri": "https://localhost:8080/"
        },
        "id": "9j_pFbJRxfsi",
        "outputId": "915a0b5c-05b8-464f-a460-7af34858ceef"
      },
      "execution_count": 147,
      "outputs": [
        {
          "output_type": "execute_result",
          "data": {
            "text/plain": [
              "['id',\n",
              " 'listing_url',\n",
              " 'scrape_id',\n",
              " 'last_scraped',\n",
              " 'source',\n",
              " 'name',\n",
              " 'description',\n",
              " 'neighborhood_overview',\n",
              " 'picture_url',\n",
              " 'host_id',\n",
              " 'host_url',\n",
              " 'host_name',\n",
              " 'host_since',\n",
              " 'host_location',\n",
              " 'host_about',\n",
              " 'host_response_time',\n",
              " 'host_response_rate',\n",
              " 'host_acceptance_rate',\n",
              " 'host_is_superhost',\n",
              " 'host_thumbnail_url',\n",
              " 'host_picture_url',\n",
              " 'host_neighbourhood',\n",
              " 'host_listings_count',\n",
              " 'host_total_listings_count',\n",
              " 'host_verifications',\n",
              " 'host_has_profile_pic',\n",
              " 'host_identity_verified',\n",
              " 'neighbourhood',\n",
              " 'neighbourhood_cleansed',\n",
              " 'neighbourhood_group_cleansed',\n",
              " 'latitude',\n",
              " 'longitude',\n",
              " 'property_type',\n",
              " 'room_type',\n",
              " 'accommodates',\n",
              " 'bathrooms',\n",
              " 'bathrooms_text',\n",
              " 'bedrooms',\n",
              " 'beds',\n",
              " 'amenities',\n",
              " 'price',\n",
              " 'minimum_nights',\n",
              " 'maximum_nights',\n",
              " 'minimum_minimum_nights',\n",
              " 'maximum_minimum_nights',\n",
              " 'minimum_maximum_nights',\n",
              " 'maximum_maximum_nights',\n",
              " 'minimum_nights_avg_ntm',\n",
              " 'maximum_nights_avg_ntm',\n",
              " 'calendar_updated',\n",
              " 'has_availability',\n",
              " 'availability_30',\n",
              " 'availability_60',\n",
              " 'availability_90',\n",
              " 'availability_365',\n",
              " 'calendar_last_scraped',\n",
              " 'number_of_reviews',\n",
              " 'number_of_reviews_ltm',\n",
              " 'number_of_reviews_l30d',\n",
              " 'first_review',\n",
              " 'last_review',\n",
              " 'review_scores_rating',\n",
              " 'review_scores_accuracy',\n",
              " 'review_scores_cleanliness',\n",
              " 'review_scores_checkin',\n",
              " 'review_scores_communication',\n",
              " 'review_scores_location',\n",
              " 'review_scores_value',\n",
              " 'license',\n",
              " 'instant_bookable',\n",
              " 'calculated_host_listings_count',\n",
              " 'calculated_host_listings_count_entire_homes',\n",
              " 'calculated_host_listings_count_private_rooms',\n",
              " 'calculated_host_listings_count_shared_rooms',\n",
              " 'reviews_per_month']"
            ]
          },
          "metadata": {},
          "execution_count": 147
        }
      ]
    },
    {
      "cell_type": "markdown",
      "source": [
        "**for this analysis we will use specific columns of our interest, listed below.**"
      ],
      "metadata": {
        "id": "AVe_XEQyHo_Q"
      }
    },
    {
      "cell_type": "code",
      "source": [
        "columns= ['id',\n",
        "          'name',\n",
        "          'host_id',\n",
        "          'host_name',\n",
        "          'neighbourhood_cleansed',\n",
        "          'neighbourhood',\n",
        "          'latitude',\n",
        "          'longitude',\n",
        "          'room_type',\n",
        "          'price',\n",
        "          'minimum_nights',\n",
        "          'number_of_reviews',\n",
        "          'last_review',\n",
        "          'reviews_per_month',\n",
        "          'calculated_host_listings_count',\n",
        "          'availability_365']\n",
        "\n",
        "airbnb = pd.read_csv('/content/drive/MyDrive/airbnbanalysis/listings.csv', usecols= columns)\n"
      ],
      "metadata": {
        "id": "tE82GS6C3HMu"
      },
      "execution_count": 148,
      "outputs": []
    },
    {
      "cell_type": "markdown",
      "source": [
        "**Print the Shape of the dataset**"
      ],
      "metadata": {
        "id": "bkcsQugHD4jp"
      }
    },
    {
      "cell_type": "code",
      "source": [
        "airbnb.shape"
      ],
      "metadata": {
        "colab": {
          "base_uri": "https://localhost:8080/"
        },
        "id": "hfzt6PxKDwLE",
        "outputId": "03b9fc77-ed8e-462b-a68e-637f50cedecc"
      },
      "execution_count": 149,
      "outputs": [
        {
          "output_type": "execute_result",
          "data": {
            "text/plain": [
              "(12955, 16)"
            ]
          },
          "metadata": {},
          "execution_count": 149
        }
      ]
    },
    {
      "cell_type": "markdown",
      "source": [
        "**Print the Datatypes of the dataset**"
      ],
      "metadata": {
        "id": "p6POVlAUD-05"
      }
    },
    {
      "cell_type": "code",
      "source": [
        "airbnb.dtypes"
      ],
      "metadata": {
        "colab": {
          "base_uri": "https://localhost:8080/"
        },
        "id": "ZUyoZ0XTDECy",
        "outputId": "48a4cfac-5efd-42ff-bcc3-e9c33a93ed8b"
      },
      "execution_count": 150,
      "outputs": [
        {
          "output_type": "execute_result",
          "data": {
            "text/plain": [
              "id                                  int64\n",
              "name                               object\n",
              "host_id                             int64\n",
              "host_name                          object\n",
              "neighbourhood                      object\n",
              "neighbourhood_cleansed             object\n",
              "latitude                          float64\n",
              "longitude                         float64\n",
              "room_type                          object\n",
              "price                              object\n",
              "minimum_nights                      int64\n",
              "availability_365                    int64\n",
              "number_of_reviews                   int64\n",
              "last_review                        object\n",
              "calculated_host_listings_count      int64\n",
              "reviews_per_month                 float64\n",
              "dtype: object"
            ]
          },
          "metadata": {},
          "execution_count": 150
        }
      ]
    },
    {
      "cell_type": "code",
      "source": [
        "airbnb.info()"
      ],
      "metadata": {
        "colab": {
          "base_uri": "https://localhost:8080/"
        },
        "id": "COmum0SzEbWu",
        "outputId": "a0d98ca9-5251-4bf3-afb5-f62e0d3ed870"
      },
      "execution_count": 151,
      "outputs": [
        {
          "output_type": "stream",
          "name": "stdout",
          "text": [
            "<class 'pandas.core.frame.DataFrame'>\n",
            "RangeIndex: 12955 entries, 0 to 12954\n",
            "Data columns (total 16 columns):\n",
            " #   Column                          Non-Null Count  Dtype  \n",
            "---  ------                          --------------  -----  \n",
            " 0   id                              12955 non-null  int64  \n",
            " 1   name                            12955 non-null  object \n",
            " 2   host_id                         12955 non-null  int64  \n",
            " 3   host_name                       12949 non-null  object \n",
            " 4   neighbourhood                   8076 non-null   object \n",
            " 5   neighbourhood_cleansed          12955 non-null  object \n",
            " 6   latitude                        12955 non-null  float64\n",
            " 7   longitude                       12955 non-null  float64\n",
            " 8   room_type                       12955 non-null  object \n",
            " 9   price                           12955 non-null  object \n",
            " 10  minimum_nights                  12955 non-null  int64  \n",
            " 11  availability_365                12955 non-null  int64  \n",
            " 12  number_of_reviews               12955 non-null  int64  \n",
            " 13  last_review                     10999 non-null  object \n",
            " 14  calculated_host_listings_count  12955 non-null  int64  \n",
            " 15  reviews_per_month               10999 non-null  float64\n",
            "dtypes: float64(3), int64(6), object(7)\n",
            "memory usage: 1.6+ MB\n"
          ]
        }
      ]
    },
    {
      "cell_type": "code",
      "source": [],
      "metadata": {
        "id": "RMEayOlzE0mn"
      },
      "execution_count": 151,
      "outputs": []
    },
    {
      "cell_type": "markdown",
      "source": [
        "**Removing the duplicates, if any**"
      ],
      "metadata": {
        "id": "BSPntLxgH-53"
      }
    },
    {
      "cell_type": "code",
      "source": [
        "airbnb.duplicated().sum()\n",
        "\n"
      ],
      "metadata": {
        "colab": {
          "base_uri": "https://localhost:8080/"
        },
        "id": "JN8VatFCH165",
        "outputId": "da628e52-e21f-4603-f9e9-a1e574e03ceb"
      },
      "execution_count": 152,
      "outputs": [
        {
          "output_type": "execute_result",
          "data": {
            "text/plain": [
              "0"
            ]
          },
          "metadata": {},
          "execution_count": 152
        }
      ]
    },
    {
      "cell_type": "markdown",
      "source": [
        " here we dont seem to have any duplicates as the sum is 0, but, if we had any we would use\n",
        "\n",
        "\n",
        "```\n",
        "# airbnb.drop_duplicates(inplace=True)\n",
        "```\n",
        "\n",
        "\n",
        " inplace=True parameter modifies the existent dataframe without creating a new one."
      ],
      "metadata": {
        "id": "vOkkFtFKI4VK"
      }
    },
    {
      "cell_type": "markdown",
      "source": [
        "**Check for the null values in each column**\n"
      ],
      "metadata": {
        "id": "j0vAOhwfJIWp"
      }
    },
    {
      "cell_type": "markdown",
      "source": [],
      "metadata": {
        "id": "r81PEj8RH9fI"
      }
    },
    {
      "cell_type": "code",
      "source": [
        "airbnb.isnull().sum()"
      ],
      "metadata": {
        "colab": {
          "base_uri": "https://localhost:8080/"
        },
        "id": "ZQpuO2B7JFbc",
        "outputId": "aa4bdc21-8480-4164-c447-0fcaabc1cadd"
      },
      "execution_count": 153,
      "outputs": [
        {
          "output_type": "execute_result",
          "data": {
            "text/plain": [
              "id                                   0\n",
              "name                                 0\n",
              "host_id                              0\n",
              "host_name                            6\n",
              "neighbourhood                     4879\n",
              "neighbourhood_cleansed               0\n",
              "latitude                             0\n",
              "longitude                            0\n",
              "room_type                            0\n",
              "price                                0\n",
              "minimum_nights                       0\n",
              "availability_365                     0\n",
              "number_of_reviews                    0\n",
              "last_review                       1956\n",
              "calculated_host_listings_count       0\n",
              "reviews_per_month                 1956\n",
              "dtype: int64"
            ]
          },
          "metadata": {},
          "execution_count": 153
        }
      ]
    },
    {
      "cell_type": "markdown",
      "source": [
        "**drop unnecessary columns**\n",
        "\n",
        "Please note that we are dropping'host_name' not only because it is insignificant but also for ethical reasons. There should be no reasoning to continue data exploration and model training (which we will be doing later) towards specific individuals based on their names. Why is that? Those names are assigned to actual humans, also they present no security threat or military/governmental interest based on the nature of the dataset, therefore names are unimportant to us."
      ],
      "metadata": {
        "id": "oFxpMs-cJtpo"
      }
    },
    {
      "cell_type": "code",
      "source": [
        "airbnb.drop(['name', 'id', 'host_name','last_review'], axis= 1, inplace=True)\n"
      ],
      "metadata": {
        "id": "hnXu3QV9J0Yd"
      },
      "execution_count": 154,
      "outputs": []
    },
    {
      "cell_type": "markdown",
      "source": [
        "**Examining our latest changes**"
      ],
      "metadata": {
        "id": "6pZ7i3tWKOhA"
      }
    },
    {
      "cell_type": "code",
      "source": [
        "airbnb.head(5)\n"
      ],
      "metadata": {
        "colab": {
          "base_uri": "https://localhost:8080/",
          "height": 313
        },
        "id": "juuOk-soKKkD",
        "outputId": "cad544e5-ec48-48ff-9258-3b25ec794643"
      },
      "execution_count": 155,
      "outputs": [
        {
          "output_type": "execute_result",
          "data": {
            "text/plain": [
              "   host_id           neighbourhood    neighbourhood_cleansed  latitude  \\\n",
              "0    37177  Athens, Attica, Greece               ΑΜΠΕΛΟΚΗΠΟΙ  37.98863   \n",
              "1    37177  Athens, Attica, Greece               ΑΜΠΕΛΟΚΗΠΟΙ  37.98903   \n",
              "2    37177  Athens, Attica, Greece               ΑΜΠΕΛΟΚΗΠΟΙ  37.98888   \n",
              "3    37177  Athens, Attica, Greece               ΑΜΠΕΛΟΚΗΠΟΙ  37.98903   \n",
              "4  3745284  Athens, Attica, Greece  ΜΟΥΣΕΙΟ-ΕΞΑΡΧΕΙΑ-ΝΕΑΠΟΛΗ  37.98985   \n",
              "\n",
              "   longitude        room_type    price  minimum_nights  availability_365  \\\n",
              "0   23.76527  Entire home/apt  $144.00               1               359   \n",
              "1   23.76448  Entire home/apt   $70.00               1                74   \n",
              "2   23.76473  Entire home/apt   $85.00               1                52   \n",
              "3   23.76448  Entire home/apt   $60.00               1                73   \n",
              "4   23.73779  Entire home/apt   $35.00               3               152   \n",
              "\n",
              "   number_of_reviews  calculated_host_listings_count  reviews_per_month  \n",
              "0                 42                               7               0.28  \n",
              "1                 66                               7               0.49  \n",
              "2                 92                               7               0.69  \n",
              "3                 30                               7               0.19  \n",
              "4                514                               2               3.87  "
            ],
            "text/html": [
              "\n",
              "  <div id=\"df-ae22c397-2897-4057-b091-2ff6ce6bb8e3\" class=\"colab-df-container\">\n",
              "    <div>\n",
              "<style scoped>\n",
              "    .dataframe tbody tr th:only-of-type {\n",
              "        vertical-align: middle;\n",
              "    }\n",
              "\n",
              "    .dataframe tbody tr th {\n",
              "        vertical-align: top;\n",
              "    }\n",
              "\n",
              "    .dataframe thead th {\n",
              "        text-align: right;\n",
              "    }\n",
              "</style>\n",
              "<table border=\"1\" class=\"dataframe\">\n",
              "  <thead>\n",
              "    <tr style=\"text-align: right;\">\n",
              "      <th></th>\n",
              "      <th>host_id</th>\n",
              "      <th>neighbourhood</th>\n",
              "      <th>neighbourhood_cleansed</th>\n",
              "      <th>latitude</th>\n",
              "      <th>longitude</th>\n",
              "      <th>room_type</th>\n",
              "      <th>price</th>\n",
              "      <th>minimum_nights</th>\n",
              "      <th>availability_365</th>\n",
              "      <th>number_of_reviews</th>\n",
              "      <th>calculated_host_listings_count</th>\n",
              "      <th>reviews_per_month</th>\n",
              "    </tr>\n",
              "  </thead>\n",
              "  <tbody>\n",
              "    <tr>\n",
              "      <th>0</th>\n",
              "      <td>37177</td>\n",
              "      <td>Athens, Attica, Greece</td>\n",
              "      <td>ΑΜΠΕΛΟΚΗΠΟΙ</td>\n",
              "      <td>37.98863</td>\n",
              "      <td>23.76527</td>\n",
              "      <td>Entire home/apt</td>\n",
              "      <td>$144.00</td>\n",
              "      <td>1</td>\n",
              "      <td>359</td>\n",
              "      <td>42</td>\n",
              "      <td>7</td>\n",
              "      <td>0.28</td>\n",
              "    </tr>\n",
              "    <tr>\n",
              "      <th>1</th>\n",
              "      <td>37177</td>\n",
              "      <td>Athens, Attica, Greece</td>\n",
              "      <td>ΑΜΠΕΛΟΚΗΠΟΙ</td>\n",
              "      <td>37.98903</td>\n",
              "      <td>23.76448</td>\n",
              "      <td>Entire home/apt</td>\n",
              "      <td>$70.00</td>\n",
              "      <td>1</td>\n",
              "      <td>74</td>\n",
              "      <td>66</td>\n",
              "      <td>7</td>\n",
              "      <td>0.49</td>\n",
              "    </tr>\n",
              "    <tr>\n",
              "      <th>2</th>\n",
              "      <td>37177</td>\n",
              "      <td>Athens, Attica, Greece</td>\n",
              "      <td>ΑΜΠΕΛΟΚΗΠΟΙ</td>\n",
              "      <td>37.98888</td>\n",
              "      <td>23.76473</td>\n",
              "      <td>Entire home/apt</td>\n",
              "      <td>$85.00</td>\n",
              "      <td>1</td>\n",
              "      <td>52</td>\n",
              "      <td>92</td>\n",
              "      <td>7</td>\n",
              "      <td>0.69</td>\n",
              "    </tr>\n",
              "    <tr>\n",
              "      <th>3</th>\n",
              "      <td>37177</td>\n",
              "      <td>Athens, Attica, Greece</td>\n",
              "      <td>ΑΜΠΕΛΟΚΗΠΟΙ</td>\n",
              "      <td>37.98903</td>\n",
              "      <td>23.76448</td>\n",
              "      <td>Entire home/apt</td>\n",
              "      <td>$60.00</td>\n",
              "      <td>1</td>\n",
              "      <td>73</td>\n",
              "      <td>30</td>\n",
              "      <td>7</td>\n",
              "      <td>0.19</td>\n",
              "    </tr>\n",
              "    <tr>\n",
              "      <th>4</th>\n",
              "      <td>3745284</td>\n",
              "      <td>Athens, Attica, Greece</td>\n",
              "      <td>ΜΟΥΣΕΙΟ-ΕΞΑΡΧΕΙΑ-ΝΕΑΠΟΛΗ</td>\n",
              "      <td>37.98985</td>\n",
              "      <td>23.73779</td>\n",
              "      <td>Entire home/apt</td>\n",
              "      <td>$35.00</td>\n",
              "      <td>3</td>\n",
              "      <td>152</td>\n",
              "      <td>514</td>\n",
              "      <td>2</td>\n",
              "      <td>3.87</td>\n",
              "    </tr>\n",
              "  </tbody>\n",
              "</table>\n",
              "</div>\n",
              "    <div class=\"colab-df-buttons\">\n",
              "\n",
              "  <div class=\"colab-df-container\">\n",
              "    <button class=\"colab-df-convert\" onclick=\"convertToInteractive('df-ae22c397-2897-4057-b091-2ff6ce6bb8e3')\"\n",
              "            title=\"Convert this dataframe to an interactive table.\"\n",
              "            style=\"display:none;\">\n",
              "\n",
              "  <svg xmlns=\"http://www.w3.org/2000/svg\" height=\"24px\" viewBox=\"0 -960 960 960\">\n",
              "    <path d=\"M120-120v-720h720v720H120Zm60-500h600v-160H180v160Zm220 220h160v-160H400v160Zm0 220h160v-160H400v160ZM180-400h160v-160H180v160Zm440 0h160v-160H620v160ZM180-180h160v-160H180v160Zm440 0h160v-160H620v160Z\"/>\n",
              "  </svg>\n",
              "    </button>\n",
              "\n",
              "  <style>\n",
              "    .colab-df-container {\n",
              "      display:flex;\n",
              "      gap: 12px;\n",
              "    }\n",
              "\n",
              "    .colab-df-convert {\n",
              "      background-color: #E8F0FE;\n",
              "      border: none;\n",
              "      border-radius: 50%;\n",
              "      cursor: pointer;\n",
              "      display: none;\n",
              "      fill: #1967D2;\n",
              "      height: 32px;\n",
              "      padding: 0 0 0 0;\n",
              "      width: 32px;\n",
              "    }\n",
              "\n",
              "    .colab-df-convert:hover {\n",
              "      background-color: #E2EBFA;\n",
              "      box-shadow: 0px 1px 2px rgba(60, 64, 67, 0.3), 0px 1px 3px 1px rgba(60, 64, 67, 0.15);\n",
              "      fill: #174EA6;\n",
              "    }\n",
              "\n",
              "    .colab-df-buttons div {\n",
              "      margin-bottom: 4px;\n",
              "    }\n",
              "\n",
              "    [theme=dark] .colab-df-convert {\n",
              "      background-color: #3B4455;\n",
              "      fill: #D2E3FC;\n",
              "    }\n",
              "\n",
              "    [theme=dark] .colab-df-convert:hover {\n",
              "      background-color: #434B5C;\n",
              "      box-shadow: 0px 1px 3px 1px rgba(0, 0, 0, 0.15);\n",
              "      filter: drop-shadow(0px 1px 2px rgba(0, 0, 0, 0.3));\n",
              "      fill: #FFFFFF;\n",
              "    }\n",
              "  </style>\n",
              "\n",
              "    <script>\n",
              "      const buttonEl =\n",
              "        document.querySelector('#df-ae22c397-2897-4057-b091-2ff6ce6bb8e3 button.colab-df-convert');\n",
              "      buttonEl.style.display =\n",
              "        google.colab.kernel.accessAllowed ? 'block' : 'none';\n",
              "\n",
              "      async function convertToInteractive(key) {\n",
              "        const element = document.querySelector('#df-ae22c397-2897-4057-b091-2ff6ce6bb8e3');\n",
              "        const dataTable =\n",
              "          await google.colab.kernel.invokeFunction('convertToInteractive',\n",
              "                                                    [key], {});\n",
              "        if (!dataTable) return;\n",
              "\n",
              "        const docLinkHtml = 'Like what you see? Visit the ' +\n",
              "          '<a target=\"_blank\" href=https://colab.research.google.com/notebooks/data_table.ipynb>data table notebook</a>'\n",
              "          + ' to learn more about interactive tables.';\n",
              "        element.innerHTML = '';\n",
              "        dataTable['output_type'] = 'display_data';\n",
              "        await google.colab.output.renderOutput(dataTable, element);\n",
              "        const docLink = document.createElement('div');\n",
              "        docLink.innerHTML = docLinkHtml;\n",
              "        element.appendChild(docLink);\n",
              "      }\n",
              "    </script>\n",
              "  </div>\n",
              "\n",
              "\n",
              "<div id=\"df-7784b0bd-ae92-4d9d-b61b-4577445fb22b\">\n",
              "  <button class=\"colab-df-quickchart\" onclick=\"quickchart('df-7784b0bd-ae92-4d9d-b61b-4577445fb22b')\"\n",
              "            title=\"Suggest charts\"\n",
              "            style=\"display:none;\">\n",
              "\n",
              "<svg xmlns=\"http://www.w3.org/2000/svg\" height=\"24px\"viewBox=\"0 0 24 24\"\n",
              "     width=\"24px\">\n",
              "    <g>\n",
              "        <path d=\"M19 3H5c-1.1 0-2 .9-2 2v14c0 1.1.9 2 2 2h14c1.1 0 2-.9 2-2V5c0-1.1-.9-2-2-2zM9 17H7v-7h2v7zm4 0h-2V7h2v10zm4 0h-2v-4h2v4z\"/>\n",
              "    </g>\n",
              "</svg>\n",
              "  </button>\n",
              "\n",
              "<style>\n",
              "  .colab-df-quickchart {\n",
              "      --bg-color: #E8F0FE;\n",
              "      --fill-color: #1967D2;\n",
              "      --hover-bg-color: #E2EBFA;\n",
              "      --hover-fill-color: #174EA6;\n",
              "      --disabled-fill-color: #AAA;\n",
              "      --disabled-bg-color: #DDD;\n",
              "  }\n",
              "\n",
              "  [theme=dark] .colab-df-quickchart {\n",
              "      --bg-color: #3B4455;\n",
              "      --fill-color: #D2E3FC;\n",
              "      --hover-bg-color: #434B5C;\n",
              "      --hover-fill-color: #FFFFFF;\n",
              "      --disabled-bg-color: #3B4455;\n",
              "      --disabled-fill-color: #666;\n",
              "  }\n",
              "\n",
              "  .colab-df-quickchart {\n",
              "    background-color: var(--bg-color);\n",
              "    border: none;\n",
              "    border-radius: 50%;\n",
              "    cursor: pointer;\n",
              "    display: none;\n",
              "    fill: var(--fill-color);\n",
              "    height: 32px;\n",
              "    padding: 0;\n",
              "    width: 32px;\n",
              "  }\n",
              "\n",
              "  .colab-df-quickchart:hover {\n",
              "    background-color: var(--hover-bg-color);\n",
              "    box-shadow: 0 1px 2px rgba(60, 64, 67, 0.3), 0 1px 3px 1px rgba(60, 64, 67, 0.15);\n",
              "    fill: var(--button-hover-fill-color);\n",
              "  }\n",
              "\n",
              "  .colab-df-quickchart-complete:disabled,\n",
              "  .colab-df-quickchart-complete:disabled:hover {\n",
              "    background-color: var(--disabled-bg-color);\n",
              "    fill: var(--disabled-fill-color);\n",
              "    box-shadow: none;\n",
              "  }\n",
              "\n",
              "  .colab-df-spinner {\n",
              "    border: 2px solid var(--fill-color);\n",
              "    border-color: transparent;\n",
              "    border-bottom-color: var(--fill-color);\n",
              "    animation:\n",
              "      spin 1s steps(1) infinite;\n",
              "  }\n",
              "\n",
              "  @keyframes spin {\n",
              "    0% {\n",
              "      border-color: transparent;\n",
              "      border-bottom-color: var(--fill-color);\n",
              "      border-left-color: var(--fill-color);\n",
              "    }\n",
              "    20% {\n",
              "      border-color: transparent;\n",
              "      border-left-color: var(--fill-color);\n",
              "      border-top-color: var(--fill-color);\n",
              "    }\n",
              "    30% {\n",
              "      border-color: transparent;\n",
              "      border-left-color: var(--fill-color);\n",
              "      border-top-color: var(--fill-color);\n",
              "      border-right-color: var(--fill-color);\n",
              "    }\n",
              "    40% {\n",
              "      border-color: transparent;\n",
              "      border-right-color: var(--fill-color);\n",
              "      border-top-color: var(--fill-color);\n",
              "    }\n",
              "    60% {\n",
              "      border-color: transparent;\n",
              "      border-right-color: var(--fill-color);\n",
              "    }\n",
              "    80% {\n",
              "      border-color: transparent;\n",
              "      border-right-color: var(--fill-color);\n",
              "      border-bottom-color: var(--fill-color);\n",
              "    }\n",
              "    90% {\n",
              "      border-color: transparent;\n",
              "      border-bottom-color: var(--fill-color);\n",
              "    }\n",
              "  }\n",
              "</style>\n",
              "\n",
              "  <script>\n",
              "    async function quickchart(key) {\n",
              "      const quickchartButtonEl =\n",
              "        document.querySelector('#' + key + ' button');\n",
              "      quickchartButtonEl.disabled = true;  // To prevent multiple clicks.\n",
              "      quickchartButtonEl.classList.add('colab-df-spinner');\n",
              "      try {\n",
              "        const charts = await google.colab.kernel.invokeFunction(\n",
              "            'suggestCharts', [key], {});\n",
              "      } catch (error) {\n",
              "        console.error('Error during call to suggestCharts:', error);\n",
              "      }\n",
              "      quickchartButtonEl.classList.remove('colab-df-spinner');\n",
              "      quickchartButtonEl.classList.add('colab-df-quickchart-complete');\n",
              "    }\n",
              "    (() => {\n",
              "      let quickchartButtonEl =\n",
              "        document.querySelector('#df-7784b0bd-ae92-4d9d-b61b-4577445fb22b button');\n",
              "      quickchartButtonEl.style.display =\n",
              "        google.colab.kernel.accessAllowed ? 'block' : 'none';\n",
              "    })();\n",
              "  </script>\n",
              "</div>\n",
              "    </div>\n",
              "  </div>\n"
            ]
          },
          "metadata": {},
          "execution_count": 155
        }
      ]
    },
    {
      "cell_type": "code",
      "source": [],
      "metadata": {
        "id": "hBMZszaaMTXp"
      },
      "execution_count": 155,
      "outputs": []
    },
    {
      "cell_type": "code",
      "source": [
        "airbnb.reviews_per_month.isnull().sum()"
      ],
      "metadata": {
        "colab": {
          "base_uri": "https://localhost:8080/"
        },
        "id": "EzhMs2TZRWgw",
        "outputId": "e9393256-6068-4ce6-9512-aac443af2ee3"
      },
      "execution_count": 156,
      "outputs": [
        {
          "output_type": "execute_result",
          "data": {
            "text/plain": [
              "1956"
            ]
          },
          "metadata": {},
          "execution_count": 156
        }
      ]
    },
    {
      "cell_type": "markdown",
      "source": [
        "**As we can see there are 1956 null, reviews_per_month , values**\n",
        "\n",
        "**We will fill those empty values with 0s**"
      ],
      "metadata": {
        "id": "AYKCzEMJREs9"
      }
    },
    {
      "cell_type": "code",
      "source": [
        "airbnb.fillna({'reviews_per_month':0}, inplace=True)\n",
        "airbnb.reviews_per_month.isnull().sum()"
      ],
      "metadata": {
        "colab": {
          "base_uri": "https://localhost:8080/"
        },
        "id": "SBe6cLjvSOru",
        "outputId": "9497a27e-665f-4bd6-8bec-16a3c494f047"
      },
      "execution_count": 157,
      "outputs": [
        {
          "output_type": "execute_result",
          "data": {
            "text/plain": [
              "0"
            ]
          },
          "metadata": {},
          "execution_count": 157
        }
      ]
    },
    {
      "cell_type": "markdown",
      "source": [
        "**Remove the NaN values from the dataset**\n"
      ],
      "metadata": {
        "id": "VGPSOiKkTvxB"
      }
    },
    {
      "cell_type": "code",
      "source": [
        "airbnb.isnull().sum()\n",
        "airbnb.dropna(how='any',inplace=True)\n",
        "airbnb.info() #.info() function is used to get a concise summary of the dataframe\n"
      ],
      "metadata": {
        "colab": {
          "base_uri": "https://localhost:8080/"
        },
        "id": "T4B4k_bVToDf",
        "outputId": "160346b9-d91d-4285-b785-2629ee04cfbf"
      },
      "execution_count": 158,
      "outputs": [
        {
          "output_type": "stream",
          "name": "stdout",
          "text": [
            "<class 'pandas.core.frame.DataFrame'>\n",
            "Int64Index: 8076 entries, 0 to 12954\n",
            "Data columns (total 12 columns):\n",
            " #   Column                          Non-Null Count  Dtype  \n",
            "---  ------                          --------------  -----  \n",
            " 0   host_id                         8076 non-null   int64  \n",
            " 1   neighbourhood                   8076 non-null   object \n",
            " 2   neighbourhood_cleansed          8076 non-null   object \n",
            " 3   latitude                        8076 non-null   float64\n",
            " 4   longitude                       8076 non-null   float64\n",
            " 5   room_type                       8076 non-null   object \n",
            " 6   price                           8076 non-null   object \n",
            " 7   minimum_nights                  8076 non-null   int64  \n",
            " 8   availability_365                8076 non-null   int64  \n",
            " 9   number_of_reviews               8076 non-null   int64  \n",
            " 10  calculated_host_listings_count  8076 non-null   int64  \n",
            " 11  reviews_per_month               8076 non-null   float64\n",
            "dtypes: float64(3), int64(5), object(4)\n",
            "memory usage: 820.2+ KB\n"
          ]
        }
      ]
    },
    {
      "cell_type": "code",
      "source": [
        "airbnb.describe()"
      ],
      "metadata": {
        "colab": {
          "base_uri": "https://localhost:8080/",
          "height": 300
        },
        "id": "OpPFdGpsUdoP",
        "outputId": "eacc4ee8-1094-4702-9913-c484e48c5705"
      },
      "execution_count": 159,
      "outputs": [
        {
          "output_type": "execute_result",
          "data": {
            "text/plain": [
              "            host_id     latitude    longitude  minimum_nights  \\\n",
              "count  8.076000e+03  8076.000000  8076.000000     8076.000000   \n",
              "mean   1.840058e+08    37.979041    23.731467        3.157751   \n",
              "std    1.573541e+08     0.012946     0.012405       15.260021   \n",
              "min    1.805000e+03    37.950550    23.697700        1.000000   \n",
              "25%    4.703835e+07    37.968160    23.723603        1.000000   \n",
              "50%    1.493467e+08    37.977863    23.729641        2.000000   \n",
              "75%    2.685149e+08    37.986810    23.737612        2.000000   \n",
              "max    5.375423e+08    38.030830    23.780220      500.000000   \n",
              "\n",
              "       availability_365  number_of_reviews  calculated_host_listings_count  \\\n",
              "count       8076.000000        8076.000000                     8076.000000   \n",
              "mean         220.254829          63.494552                       12.760277   \n",
              "std          126.887857          94.024765                       21.199900   \n",
              "min            0.000000           0.000000                        1.000000   \n",
              "25%           99.000000           5.000000                        1.000000   \n",
              "50%          264.500000          23.000000                        3.000000   \n",
              "75%          332.000000          84.000000                       14.000000   \n",
              "max          365.000000         865.000000                      114.000000   \n",
              "\n",
              "       reviews_per_month  \n",
              "count        8076.000000  \n",
              "mean            1.744755  \n",
              "std             1.837075  \n",
              "min             0.000000  \n",
              "25%             0.310000  \n",
              "50%             1.120000  \n",
              "75%             2.630000  \n",
              "max            13.300000  "
            ],
            "text/html": [
              "\n",
              "  <div id=\"df-680a6c11-ab74-41c6-9bf8-3a4ad4cf1b50\" class=\"colab-df-container\">\n",
              "    <div>\n",
              "<style scoped>\n",
              "    .dataframe tbody tr th:only-of-type {\n",
              "        vertical-align: middle;\n",
              "    }\n",
              "\n",
              "    .dataframe tbody tr th {\n",
              "        vertical-align: top;\n",
              "    }\n",
              "\n",
              "    .dataframe thead th {\n",
              "        text-align: right;\n",
              "    }\n",
              "</style>\n",
              "<table border=\"1\" class=\"dataframe\">\n",
              "  <thead>\n",
              "    <tr style=\"text-align: right;\">\n",
              "      <th></th>\n",
              "      <th>host_id</th>\n",
              "      <th>latitude</th>\n",
              "      <th>longitude</th>\n",
              "      <th>minimum_nights</th>\n",
              "      <th>availability_365</th>\n",
              "      <th>number_of_reviews</th>\n",
              "      <th>calculated_host_listings_count</th>\n",
              "      <th>reviews_per_month</th>\n",
              "    </tr>\n",
              "  </thead>\n",
              "  <tbody>\n",
              "    <tr>\n",
              "      <th>count</th>\n",
              "      <td>8.076000e+03</td>\n",
              "      <td>8076.000000</td>\n",
              "      <td>8076.000000</td>\n",
              "      <td>8076.000000</td>\n",
              "      <td>8076.000000</td>\n",
              "      <td>8076.000000</td>\n",
              "      <td>8076.000000</td>\n",
              "      <td>8076.000000</td>\n",
              "    </tr>\n",
              "    <tr>\n",
              "      <th>mean</th>\n",
              "      <td>1.840058e+08</td>\n",
              "      <td>37.979041</td>\n",
              "      <td>23.731467</td>\n",
              "      <td>3.157751</td>\n",
              "      <td>220.254829</td>\n",
              "      <td>63.494552</td>\n",
              "      <td>12.760277</td>\n",
              "      <td>1.744755</td>\n",
              "    </tr>\n",
              "    <tr>\n",
              "      <th>std</th>\n",
              "      <td>1.573541e+08</td>\n",
              "      <td>0.012946</td>\n",
              "      <td>0.012405</td>\n",
              "      <td>15.260021</td>\n",
              "      <td>126.887857</td>\n",
              "      <td>94.024765</td>\n",
              "      <td>21.199900</td>\n",
              "      <td>1.837075</td>\n",
              "    </tr>\n",
              "    <tr>\n",
              "      <th>min</th>\n",
              "      <td>1.805000e+03</td>\n",
              "      <td>37.950550</td>\n",
              "      <td>23.697700</td>\n",
              "      <td>1.000000</td>\n",
              "      <td>0.000000</td>\n",
              "      <td>0.000000</td>\n",
              "      <td>1.000000</td>\n",
              "      <td>0.000000</td>\n",
              "    </tr>\n",
              "    <tr>\n",
              "      <th>25%</th>\n",
              "      <td>4.703835e+07</td>\n",
              "      <td>37.968160</td>\n",
              "      <td>23.723603</td>\n",
              "      <td>1.000000</td>\n",
              "      <td>99.000000</td>\n",
              "      <td>5.000000</td>\n",
              "      <td>1.000000</td>\n",
              "      <td>0.310000</td>\n",
              "    </tr>\n",
              "    <tr>\n",
              "      <th>50%</th>\n",
              "      <td>1.493467e+08</td>\n",
              "      <td>37.977863</td>\n",
              "      <td>23.729641</td>\n",
              "      <td>2.000000</td>\n",
              "      <td>264.500000</td>\n",
              "      <td>23.000000</td>\n",
              "      <td>3.000000</td>\n",
              "      <td>1.120000</td>\n",
              "    </tr>\n",
              "    <tr>\n",
              "      <th>75%</th>\n",
              "      <td>2.685149e+08</td>\n",
              "      <td>37.986810</td>\n",
              "      <td>23.737612</td>\n",
              "      <td>2.000000</td>\n",
              "      <td>332.000000</td>\n",
              "      <td>84.000000</td>\n",
              "      <td>14.000000</td>\n",
              "      <td>2.630000</td>\n",
              "    </tr>\n",
              "    <tr>\n",
              "      <th>max</th>\n",
              "      <td>5.375423e+08</td>\n",
              "      <td>38.030830</td>\n",
              "      <td>23.780220</td>\n",
              "      <td>500.000000</td>\n",
              "      <td>365.000000</td>\n",
              "      <td>865.000000</td>\n",
              "      <td>114.000000</td>\n",
              "      <td>13.300000</td>\n",
              "    </tr>\n",
              "  </tbody>\n",
              "</table>\n",
              "</div>\n",
              "    <div class=\"colab-df-buttons\">\n",
              "\n",
              "  <div class=\"colab-df-container\">\n",
              "    <button class=\"colab-df-convert\" onclick=\"convertToInteractive('df-680a6c11-ab74-41c6-9bf8-3a4ad4cf1b50')\"\n",
              "            title=\"Convert this dataframe to an interactive table.\"\n",
              "            style=\"display:none;\">\n",
              "\n",
              "  <svg xmlns=\"http://www.w3.org/2000/svg\" height=\"24px\" viewBox=\"0 -960 960 960\">\n",
              "    <path d=\"M120-120v-720h720v720H120Zm60-500h600v-160H180v160Zm220 220h160v-160H400v160Zm0 220h160v-160H400v160ZM180-400h160v-160H180v160Zm440 0h160v-160H620v160ZM180-180h160v-160H180v160Zm440 0h160v-160H620v160Z\"/>\n",
              "  </svg>\n",
              "    </button>\n",
              "\n",
              "  <style>\n",
              "    .colab-df-container {\n",
              "      display:flex;\n",
              "      gap: 12px;\n",
              "    }\n",
              "\n",
              "    .colab-df-convert {\n",
              "      background-color: #E8F0FE;\n",
              "      border: none;\n",
              "      border-radius: 50%;\n",
              "      cursor: pointer;\n",
              "      display: none;\n",
              "      fill: #1967D2;\n",
              "      height: 32px;\n",
              "      padding: 0 0 0 0;\n",
              "      width: 32px;\n",
              "    }\n",
              "\n",
              "    .colab-df-convert:hover {\n",
              "      background-color: #E2EBFA;\n",
              "      box-shadow: 0px 1px 2px rgba(60, 64, 67, 0.3), 0px 1px 3px 1px rgba(60, 64, 67, 0.15);\n",
              "      fill: #174EA6;\n",
              "    }\n",
              "\n",
              "    .colab-df-buttons div {\n",
              "      margin-bottom: 4px;\n",
              "    }\n",
              "\n",
              "    [theme=dark] .colab-df-convert {\n",
              "      background-color: #3B4455;\n",
              "      fill: #D2E3FC;\n",
              "    }\n",
              "\n",
              "    [theme=dark] .colab-df-convert:hover {\n",
              "      background-color: #434B5C;\n",
              "      box-shadow: 0px 1px 3px 1px rgba(0, 0, 0, 0.15);\n",
              "      filter: drop-shadow(0px 1px 2px rgba(0, 0, 0, 0.3));\n",
              "      fill: #FFFFFF;\n",
              "    }\n",
              "  </style>\n",
              "\n",
              "    <script>\n",
              "      const buttonEl =\n",
              "        document.querySelector('#df-680a6c11-ab74-41c6-9bf8-3a4ad4cf1b50 button.colab-df-convert');\n",
              "      buttonEl.style.display =\n",
              "        google.colab.kernel.accessAllowed ? 'block' : 'none';\n",
              "\n",
              "      async function convertToInteractive(key) {\n",
              "        const element = document.querySelector('#df-680a6c11-ab74-41c6-9bf8-3a4ad4cf1b50');\n",
              "        const dataTable =\n",
              "          await google.colab.kernel.invokeFunction('convertToInteractive',\n",
              "                                                    [key], {});\n",
              "        if (!dataTable) return;\n",
              "\n",
              "        const docLinkHtml = 'Like what you see? Visit the ' +\n",
              "          '<a target=\"_blank\" href=https://colab.research.google.com/notebooks/data_table.ipynb>data table notebook</a>'\n",
              "          + ' to learn more about interactive tables.';\n",
              "        element.innerHTML = '';\n",
              "        dataTable['output_type'] = 'display_data';\n",
              "        await google.colab.output.renderOutput(dataTable, element);\n",
              "        const docLink = document.createElement('div');\n",
              "        docLink.innerHTML = docLinkHtml;\n",
              "        element.appendChild(docLink);\n",
              "      }\n",
              "    </script>\n",
              "  </div>\n",
              "\n",
              "\n",
              "<div id=\"df-855bd168-295b-4385-9418-59330bf7918a\">\n",
              "  <button class=\"colab-df-quickchart\" onclick=\"quickchart('df-855bd168-295b-4385-9418-59330bf7918a')\"\n",
              "            title=\"Suggest charts\"\n",
              "            style=\"display:none;\">\n",
              "\n",
              "<svg xmlns=\"http://www.w3.org/2000/svg\" height=\"24px\"viewBox=\"0 0 24 24\"\n",
              "     width=\"24px\">\n",
              "    <g>\n",
              "        <path d=\"M19 3H5c-1.1 0-2 .9-2 2v14c0 1.1.9 2 2 2h14c1.1 0 2-.9 2-2V5c0-1.1-.9-2-2-2zM9 17H7v-7h2v7zm4 0h-2V7h2v10zm4 0h-2v-4h2v4z\"/>\n",
              "    </g>\n",
              "</svg>\n",
              "  </button>\n",
              "\n",
              "<style>\n",
              "  .colab-df-quickchart {\n",
              "      --bg-color: #E8F0FE;\n",
              "      --fill-color: #1967D2;\n",
              "      --hover-bg-color: #E2EBFA;\n",
              "      --hover-fill-color: #174EA6;\n",
              "      --disabled-fill-color: #AAA;\n",
              "      --disabled-bg-color: #DDD;\n",
              "  }\n",
              "\n",
              "  [theme=dark] .colab-df-quickchart {\n",
              "      --bg-color: #3B4455;\n",
              "      --fill-color: #D2E3FC;\n",
              "      --hover-bg-color: #434B5C;\n",
              "      --hover-fill-color: #FFFFFF;\n",
              "      --disabled-bg-color: #3B4455;\n",
              "      --disabled-fill-color: #666;\n",
              "  }\n",
              "\n",
              "  .colab-df-quickchart {\n",
              "    background-color: var(--bg-color);\n",
              "    border: none;\n",
              "    border-radius: 50%;\n",
              "    cursor: pointer;\n",
              "    display: none;\n",
              "    fill: var(--fill-color);\n",
              "    height: 32px;\n",
              "    padding: 0;\n",
              "    width: 32px;\n",
              "  }\n",
              "\n",
              "  .colab-df-quickchart:hover {\n",
              "    background-color: var(--hover-bg-color);\n",
              "    box-shadow: 0 1px 2px rgba(60, 64, 67, 0.3), 0 1px 3px 1px rgba(60, 64, 67, 0.15);\n",
              "    fill: var(--button-hover-fill-color);\n",
              "  }\n",
              "\n",
              "  .colab-df-quickchart-complete:disabled,\n",
              "  .colab-df-quickchart-complete:disabled:hover {\n",
              "    background-color: var(--disabled-bg-color);\n",
              "    fill: var(--disabled-fill-color);\n",
              "    box-shadow: none;\n",
              "  }\n",
              "\n",
              "  .colab-df-spinner {\n",
              "    border: 2px solid var(--fill-color);\n",
              "    border-color: transparent;\n",
              "    border-bottom-color: var(--fill-color);\n",
              "    animation:\n",
              "      spin 1s steps(1) infinite;\n",
              "  }\n",
              "\n",
              "  @keyframes spin {\n",
              "    0% {\n",
              "      border-color: transparent;\n",
              "      border-bottom-color: var(--fill-color);\n",
              "      border-left-color: var(--fill-color);\n",
              "    }\n",
              "    20% {\n",
              "      border-color: transparent;\n",
              "      border-left-color: var(--fill-color);\n",
              "      border-top-color: var(--fill-color);\n",
              "    }\n",
              "    30% {\n",
              "      border-color: transparent;\n",
              "      border-left-color: var(--fill-color);\n",
              "      border-top-color: var(--fill-color);\n",
              "      border-right-color: var(--fill-color);\n",
              "    }\n",
              "    40% {\n",
              "      border-color: transparent;\n",
              "      border-right-color: var(--fill-color);\n",
              "      border-top-color: var(--fill-color);\n",
              "    }\n",
              "    60% {\n",
              "      border-color: transparent;\n",
              "      border-right-color: var(--fill-color);\n",
              "    }\n",
              "    80% {\n",
              "      border-color: transparent;\n",
              "      border-right-color: var(--fill-color);\n",
              "      border-bottom-color: var(--fill-color);\n",
              "    }\n",
              "    90% {\n",
              "      border-color: transparent;\n",
              "      border-bottom-color: var(--fill-color);\n",
              "    }\n",
              "  }\n",
              "</style>\n",
              "\n",
              "  <script>\n",
              "    async function quickchart(key) {\n",
              "      const quickchartButtonEl =\n",
              "        document.querySelector('#' + key + ' button');\n",
              "      quickchartButtonEl.disabled = true;  // To prevent multiple clicks.\n",
              "      quickchartButtonEl.classList.add('colab-df-spinner');\n",
              "      try {\n",
              "        const charts = await google.colab.kernel.invokeFunction(\n",
              "            'suggestCharts', [key], {});\n",
              "      } catch (error) {\n",
              "        console.error('Error during call to suggestCharts:', error);\n",
              "      }\n",
              "      quickchartButtonEl.classList.remove('colab-df-spinner');\n",
              "      quickchartButtonEl.classList.add('colab-df-quickchart-complete');\n",
              "    }\n",
              "    (() => {\n",
              "      let quickchartButtonEl =\n",
              "        document.querySelector('#df-855bd168-295b-4385-9418-59330bf7918a button');\n",
              "      quickchartButtonEl.style.display =\n",
              "        google.colab.kernel.accessAllowed ? 'block' : 'none';\n",
              "    })();\n",
              "  </script>\n",
              "</div>\n",
              "    </div>\n",
              "  </div>\n"
            ]
          },
          "metadata": {},
          "execution_count": 159
        }
      ]
    },
    {
      "cell_type": "markdown",
      "source": [
        "**now lets print all the column name to have a clear image**"
      ],
      "metadata": {
        "id": "GqRBMgIoVOei"
      }
    },
    {
      "cell_type": "code",
      "source": [
        "airbnb.columns\n"
      ],
      "metadata": {
        "colab": {
          "base_uri": "https://localhost:8080/"
        },
        "id": "BXhmf0oDVLLc",
        "outputId": "5bd1e7a0-62fd-4683-eca7-8139a7903fcd"
      },
      "execution_count": 160,
      "outputs": [
        {
          "output_type": "execute_result",
          "data": {
            "text/plain": [
              "Index(['host_id', 'neighbourhood', 'neighbourhood_cleansed', 'latitude',\n",
              "       'longitude', 'room_type', 'price', 'minimum_nights', 'availability_365',\n",
              "       'number_of_reviews', 'calculated_host_listings_count',\n",
              "       'reviews_per_month'],\n",
              "      dtype='object')"
            ]
          },
          "metadata": {},
          "execution_count": 160
        }
      ]
    },
    {
      "cell_type": "markdown",
      "source": [
        "**Get Correlation between different variables**\n"
      ],
      "metadata": {
        "id": "qaAEWwFrVc_P"
      }
    },
    {
      "cell_type": "code",
      "source": [
        "corr = airbnb.corr(method='kendall')\n",
        "plt.figure(figsize=(15,8))\n",
        "sns.heatmap(corr, annot=True)\n",
        "airbnb.columns\n"
      ],
      "metadata": {
        "colab": {
          "base_uri": "https://localhost:8080/",
          "height": 1000
        },
        "id": "Wym3b5pjVfe0",
        "outputId": "9378ad00-65f2-4394-80d4-5a84d217f219"
      },
      "execution_count": 161,
      "outputs": [
        {
          "output_type": "execute_result",
          "data": {
            "text/plain": [
              "Index(['host_id', 'neighbourhood', 'neighbourhood_cleansed', 'latitude',\n",
              "       'longitude', 'room_type', 'price', 'minimum_nights', 'availability_365',\n",
              "       'number_of_reviews', 'calculated_host_listings_count',\n",
              "       'reviews_per_month'],\n",
              "      dtype='object')"
            ]
          },
          "metadata": {},
          "execution_count": 161
        },
        {
          "output_type": "display_data",
          "data": {
            "text/plain": [
              "<Figure size 1000x800 with 1 Axes>"
            ],
            "image/png": "[encoded data removed]"
          },
          "metadata": {}
        },
        {
          "output_type": "display_data",
          "data": {
            "text/plain": [
              "<Figure size 1500x800 with 2 Axes>"
            ],
            "image/png": "[encoded data removed]"
          },
          "metadata": {}
        }
      ]
    },
    {
      "cell_type": "code",
      "source": [
        "airbnb.shape"
      ],
      "metadata": {
        "colab": {
          "base_uri": "https://localhost:8080/"
        },
        "id": "J5G9AvFeXSEf",
        "outputId": "b1d4b81e-59b5-4399-bf53-5ec6171c2c5b"
      },
      "execution_count": 162,
      "outputs": [
        {
          "output_type": "execute_result",
          "data": {
            "text/plain": [
              "(8076, 12)"
            ]
          },
          "metadata": {},
          "execution_count": 162
        }
      ]
    },
    {
      "cell_type": "code",
      "source": [
        "airbnb.head(20)"
      ],
      "metadata": {
        "colab": {
          "base_uri": "https://localhost:8080/",
          "height": 1000
        },
        "id": "Dd48vJr6Xas9",
        "outputId": "3f819a8a-c368-410a-a9f5-f524248f9297"
      },
      "execution_count": 163,
      "outputs": [
        {
          "output_type": "execute_result",
          "data": {
            "text/plain": [
              "    host_id           neighbourhood            neighbourhood_cleansed  \\\n",
              "0     37177  Athens, Attica, Greece                       ΑΜΠΕΛΟΚΗΠΟΙ   \n",
              "1     37177  Athens, Attica, Greece                       ΑΜΠΕΛΟΚΗΠΟΙ   \n",
              "2     37177  Athens, Attica, Greece                       ΑΜΠΕΛΟΚΗΠΟΙ   \n",
              "3     37177  Athens, Attica, Greece                       ΑΜΠΕΛΟΚΗΠΟΙ   \n",
              "4   3745284  Athens, Attica, Greece          ΜΟΥΣΕΙΟ-ΕΞΑΡΧΕΙΑ-ΝΕΑΠΟΛΗ   \n",
              "7    121318  Athens, Attica, Greece            ΕΜΠΟΡΙΚΟ ΤΡΙΓΩΝΟ-ΠΛΑΚΑ   \n",
              "9    146553  Athens, Αττική, Greece                    ΑΓΙΟΣ ΝΙΚΟΛΑΟΣ   \n",
              "11   225612  Athens, Αττική, Greece            ΕΜΠΟΡΙΚΟ ΤΡΙΓΩΝΟ-ΠΛΑΚΑ   \n",
              "12  3954884  Athens, Attica, Greece                  ΠΛΑΤΕΙΑ ΑΜΕΡΙΚΗΣ   \n",
              "13   290864  Athens, Attica, Greece                            ΣΤΑΔΙΟ   \n",
              "15   964919  Athens, Attica, Greece  ΑΓΙΟΣ ΚΩΝΣΤΑΝΤΙΝΟΣ-ΠΛΑΤΕΙΑ ΒΑΘΗΣ   \n",
              "21   675611          Athens, Greece                          ΠΑΓΚΡΑΤΙ   \n",
              "23   741851  Athens, Attica, Greece          ΜΟΥΣΕΙΟ-ΕΞΑΡΧΕΙΑ-ΝΕΑΠΟΛΗ   \n",
              "26   121318  Athens, Attica, Greece            ΕΜΠΟΡΙΚΟ ΤΡΙΓΩΝΟ-ΠΛΑΚΑ   \n",
              "31  4544938  Athens, Attica, Greece                            ΙΛΙΣΙΑ   \n",
              "32  1264236  Athens, Attica, Greece            ΕΜΠΟΡΙΚΟ ΤΡΙΓΩΝΟ-ΠΛΑΚΑ   \n",
              "35  1418201  Athens, Attica, Greece                        ΚΕΡΑΜΕΙΚΟΣ   \n",
              "37  1418201  Athens, Attica, Greece                        ΚΕΡΑΜΕΙΚΟΣ   \n",
              "38  4777984  Athens, Attica, Greece          ΜΟΥΣΕΙΟ-ΕΞΑΡΧΕΙΑ-ΝΕΑΠΟΛΗ   \n",
              "39  4777984          Athens, Greece          ΜΟΥΣΕΙΟ-ΕΞΑΡΧΕΙΑ-ΝΕΑΠΟΛΗ   \n",
              "\n",
              "     latitude  longitude        room_type    price  minimum_nights  \\\n",
              "0   37.988630  23.765270  Entire home/apt  $144.00               1   \n",
              "1   37.989030  23.764480  Entire home/apt   $70.00               1   \n",
              "2   37.988880  23.764730  Entire home/apt   $85.00               1   \n",
              "3   37.989030  23.764480  Entire home/apt   $60.00               1   \n",
              "4   37.989850  23.737790  Entire home/apt   $35.00               3   \n",
              "7   37.976334  23.729834  Entire home/apt   $99.00               2   \n",
              "9   38.006730  23.727750  Entire home/apt   $30.00               5   \n",
              "11  37.976700  23.730640  Entire home/apt  $180.00               2   \n",
              "12  38.003980  23.731900  Entire home/apt   $48.00               4   \n",
              "13  37.967380  23.740380  Entire home/apt   $32.00               6   \n",
              "15  37.984470  23.721120  Entire home/apt  $350.00               3   \n",
              "21  37.967830  23.749700  Entire home/apt   $59.00               3   \n",
              "23  37.985740  23.733230  Entire home/apt   $60.00               2   \n",
              "26  37.978350  23.723680  Entire home/apt  $368.00               2   \n",
              "31  37.978680  23.754240  Entire home/apt   $94.00               3   \n",
              "32  37.979390  23.725280  Entire home/apt  $116.00               3   \n",
              "35  37.980200  23.723570  Entire home/apt   $92.00               2   \n",
              "37  37.980200  23.723570  Entire home/apt   $98.00               2   \n",
              "38  37.988440  23.738450  Entire home/apt   $74.00               2   \n",
              "39  37.988410  23.737130  Entire home/apt   $67.00               2   \n",
              "\n",
              "    availability_365  number_of_reviews  calculated_host_listings_count  \\\n",
              "0                359                 42                               7   \n",
              "1                 74                 66                               7   \n",
              "2                 52                 92                               7   \n",
              "3                 73                 30                               7   \n",
              "4                152                514                               2   \n",
              "7                352                495                               2   \n",
              "9                174                 72                               2   \n",
              "11               329                136                               1   \n",
              "12               181                180                               1   \n",
              "13               126                 30                               1   \n",
              "15               365                  2                               1   \n",
              "21                 0                 59                               1   \n",
              "23               348                193                               1   \n",
              "26               318                388                               2   \n",
              "31               354                 33                               1   \n",
              "32               139                 85                               1   \n",
              "35               294                 24                              50   \n",
              "37               284                 26                              50   \n",
              "38               210                455                              20   \n",
              "39               223                444                              20   \n",
              "\n",
              "    reviews_per_month  \n",
              "0                0.28  \n",
              "1                0.49  \n",
              "2                0.69  \n",
              "3                0.19  \n",
              "4                3.87  \n",
              "7                3.59  \n",
              "9                0.46  \n",
              "11               0.93  \n",
              "12               1.42  \n",
              "13               0.30  \n",
              "15               0.02  \n",
              "21               0.41  \n",
              "23               1.30  \n",
              "26               3.02  \n",
              "31               0.30  \n",
              "32               0.64  \n",
              "35               0.18  \n",
              "37               0.24  \n",
              "38               3.54  \n",
              "39               3.49  "
            ],
            "text/html": [
              "\n",
              "  <div id=\"df-7ad94ba4-ed39-41fb-ab2e-d85c61d7d1a0\" class=\"colab-df-container\">\n",
              "    <div>\n",
              "<style scoped>\n",
              "    .dataframe tbody tr th:only-of-type {\n",
              "        vertical-align: middle;\n",
              "    }\n",
              "\n",
              "    .dataframe tbody tr th {\n",
              "        vertical-align: top;\n",
              "    }\n",
              "\n",
              "    .dataframe thead th {\n",
              "        text-align: right;\n",
              "    }\n",
              "</style>\n",
              "<table border=\"1\" class=\"dataframe\">\n",
              "  <thead>\n",
              "    <tr style=\"text-align: right;\">\n",
              "      <th></th>\n",
              "      <th>host_id</th>\n",
              "      <th>neighbourhood</th>\n",
              "      <th>neighbourhood_cleansed</th>\n",
              "      <th>latitude</th>\n",
              "      <th>longitude</th>\n",
              "      <th>room_type</th>\n",
              "      <th>price</th>\n",
              "      <th>minimum_nights</th>\n",
              "      <th>availability_365</th>\n",
              "      <th>number_of_reviews</th>\n",
              "      <th>calculated_host_listings_count</th>\n",
              "      <th>reviews_per_month</th>\n",
              "    </tr>\n",
              "  </thead>\n",
              "  <tbody>\n",
              "    <tr>\n",
              "      <th>0</th>\n",
              "      <td>37177</td>\n",
              "      <td>Athens, Attica, Greece</td>\n",
              "      <td>ΑΜΠΕΛΟΚΗΠΟΙ</td>\n",
              "      <td>37.988630</td>\n",
              "      <td>23.765270</td>\n",
              "      <td>Entire home/apt</td>\n",
              "      <td>$144.00</td>\n",
              "      <td>1</td>\n",
              "      <td>359</td>\n",
              "      <td>42</td>\n",
              "      <td>7</td>\n",
              "      <td>0.28</td>\n",
              "    </tr>\n",
              "    <tr>\n",
              "      <th>1</th>\n",
              "      <td>37177</td>\n",
              "      <td>Athens, Attica, Greece</td>\n",
              "      <td>ΑΜΠΕΛΟΚΗΠΟΙ</td>\n",
              "      <td>37.989030</td>\n",
              "      <td>23.764480</td>\n",
              "      <td>Entire home/apt</td>\n",
              "      <td>$70.00</td>\n",
              "      <td>1</td>\n",
              "      <td>74</td>\n",
              "      <td>66</td>\n",
              "      <td>7</td>\n",
              "      <td>0.49</td>\n",
              "    </tr>\n",
              "    <tr>\n",
              "      <th>2</th>\n",
              "      <td>37177</td>\n",
              "      <td>Athens, Attica, Greece</td>\n",
              "      <td>ΑΜΠΕΛΟΚΗΠΟΙ</td>\n",
              "      <td>37.988880</td>\n",
              "      <td>23.764730</td>\n",
              "      <td>Entire home/apt</td>\n",
              "      <td>$85.00</td>\n",
              "      <td>1</td>\n",
              "      <td>52</td>\n",
              "      <td>92</td>\n",
              "      <td>7</td>\n",
              "      <td>0.69</td>\n",
              "    </tr>\n",
              "    <tr>\n",
              "      <th>3</th>\n",
              "      <td>37177</td>\n",
              "      <td>Athens, Attica, Greece</td>\n",
              "      <td>ΑΜΠΕΛΟΚΗΠΟΙ</td>\n",
              "      <td>37.989030</td>\n",
              "      <td>23.764480</td>\n",
              "      <td>Entire home/apt</td>\n",
              "      <td>$60.00</td>\n",
              "      <td>1</td>\n",
              "      <td>73</td>\n",
              "      <td>30</td>\n",
              "      <td>7</td>\n",
              "      <td>0.19</td>\n",
              "    </tr>\n",
              "    <tr>\n",
              "      <th>4</th>\n",
              "      <td>3745284</td>\n",
              "      <td>Athens, Attica, Greece</td>\n",
              "      <td>ΜΟΥΣΕΙΟ-ΕΞΑΡΧΕΙΑ-ΝΕΑΠΟΛΗ</td>\n",
              "      <td>37.989850</td>\n",
              "      <td>23.737790</td>\n",
              "      <td>Entire home/apt</td>\n",
              "      <td>$35.00</td>\n",
              "      <td>3</td>\n",
              "      <td>152</td>\n",
              "      <td>514</td>\n",
              "      <td>2</td>\n",
              "      <td>3.87</td>\n",
              "    </tr>\n",
              "    <tr>\n",
              "      <th>7</th>\n",
              "      <td>121318</td>\n",
              "      <td>Athens, Attica, Greece</td>\n",
              "      <td>ΕΜΠΟΡΙΚΟ ΤΡΙΓΩΝΟ-ΠΛΑΚΑ</td>\n",
              "      <td>37.976334</td>\n",
              "      <td>23.729834</td>\n",
              "      <td>Entire home/apt</td>\n",
              "      <td>$99.00</td>\n",
              "      <td>2</td>\n",
              "      <td>352</td>\n",
              "      <td>495</td>\n",
              "      <td>2</td>\n",
              "      <td>3.59</td>\n",
              "    </tr>\n",
              "    <tr>\n",
              "      <th>9</th>\n",
              "      <td>146553</td>\n",
              "      <td>Athens, Αττική, Greece</td>\n",
              "      <td>ΑΓΙΟΣ ΝΙΚΟΛΑΟΣ</td>\n",
              "      <td>38.006730</td>\n",
              "      <td>23.727750</td>\n",
              "      <td>Entire home/apt</td>\n",
              "      <td>$30.00</td>\n",
              "      <td>5</td>\n",
              "      <td>174</td>\n",
              "      <td>72</td>\n",
              "      <td>2</td>\n",
              "      <td>0.46</td>\n",
              "    </tr>\n",
              "    <tr>\n",
              "      <th>11</th>\n",
              "      <td>225612</td>\n",
              "      <td>Athens, Αττική, Greece</td>\n",
              "      <td>ΕΜΠΟΡΙΚΟ ΤΡΙΓΩΝΟ-ΠΛΑΚΑ</td>\n",
              "      <td>37.976700</td>\n",
              "      <td>23.730640</td>\n",
              "      <td>Entire home/apt</td>\n",
              "      <td>$180.00</td>\n",
              "      <td>2</td>\n",
              "      <td>329</td>\n",
              "      <td>136</td>\n",
              "      <td>1</td>\n",
              "      <td>0.93</td>\n",
              "    </tr>\n",
              "    <tr>\n",
              "      <th>12</th>\n",
              "      <td>3954884</td>\n",
              "      <td>Athens, Attica, Greece</td>\n",
              "      <td>ΠΛΑΤΕΙΑ ΑΜΕΡΙΚΗΣ</td>\n",
              "      <td>38.003980</td>\n",
              "      <td>23.731900</td>\n",
              "      <td>Entire home/apt</td>\n",
              "      <td>$48.00</td>\n",
              "      <td>4</td>\n",
              "      <td>181</td>\n",
              "      <td>180</td>\n",
              "      <td>1</td>\n",
              "      <td>1.42</td>\n",
              "    </tr>\n",
              "    <tr>\n",
              "      <th>13</th>\n",
              "      <td>290864</td>\n",
              "      <td>Athens, Attica, Greece</td>\n",
              "      <td>ΣΤΑΔΙΟ</td>\n",
              "      <td>37.967380</td>\n",
              "      <td>23.740380</td>\n",
              "      <td>Entire home/apt</td>\n",
              "      <td>$32.00</td>\n",
              "      <td>6</td>\n",
              "      <td>126</td>\n",
              "      <td>30</td>\n",
              "      <td>1</td>\n",
              "      <td>0.30</td>\n",
              "    </tr>\n",
              "    <tr>\n",
              "      <th>15</th>\n",
              "      <td>964919</td>\n",
              "      <td>Athens, Attica, Greece</td>\n",
              "      <td>ΑΓΙΟΣ ΚΩΝΣΤΑΝΤΙΝΟΣ-ΠΛΑΤΕΙΑ ΒΑΘΗΣ</td>\n",
              "      <td>37.984470</td>\n",
              "      <td>23.721120</td>\n",
              "      <td>Entire home/apt</td>\n",
              "      <td>$350.00</td>\n",
              "      <td>3</td>\n",
              "      <td>365</td>\n",
              "      <td>2</td>\n",
              "      <td>1</td>\n",
              "      <td>0.02</td>\n",
              "    </tr>\n",
              "    <tr>\n",
              "      <th>21</th>\n",
              "      <td>675611</td>\n",
              "      <td>Athens, Greece</td>\n",
              "      <td>ΠΑΓΚΡΑΤΙ</td>\n",
              "      <td>37.967830</td>\n",
              "      <td>23.749700</td>\n",
              "      <td>Entire home/apt</td>\n",
              "      <td>$59.00</td>\n",
              "      <td>3</td>\n",
              "      <td>0</td>\n",
              "      <td>59</td>\n",
              "      <td>1</td>\n",
              "      <td>0.41</td>\n",
              "    </tr>\n",
              "    <tr>\n",
              "      <th>23</th>\n",
              "      <td>741851</td>\n",
              "      <td>Athens, Attica, Greece</td>\n",
              "      <td>ΜΟΥΣΕΙΟ-ΕΞΑΡΧΕΙΑ-ΝΕΑΠΟΛΗ</td>\n",
              "      <td>37.985740</td>\n",
              "      <td>23.733230</td>\n",
              "      <td>Entire home/apt</td>\n",
              "      <td>$60.00</td>\n",
              "      <td>2</td>\n",
              "      <td>348</td>\n",
              "      <td>193</td>\n",
              "      <td>1</td>\n",
              "      <td>1.30</td>\n",
              "    </tr>\n",
              "    <tr>\n",
              "      <th>26</th>\n",
              "      <td>121318</td>\n",
              "      <td>Athens, Attica, Greece</td>\n",
              "      <td>ΕΜΠΟΡΙΚΟ ΤΡΙΓΩΝΟ-ΠΛΑΚΑ</td>\n",
              "      <td>37.978350</td>\n",
              "      <td>23.723680</td>\n",
              "      <td>Entire home/apt</td>\n",
              "      <td>$368.00</td>\n",
              "      <td>2</td>\n",
              "      <td>318</td>\n",
              "      <td>388</td>\n",
              "      <td>2</td>\n",
              "      <td>3.02</td>\n",
              "    </tr>\n",
              "    <tr>\n",
              "      <th>31</th>\n",
              "      <td>4544938</td>\n",
              "      <td>Athens, Attica, Greece</td>\n",
              "      <td>ΙΛΙΣΙΑ</td>\n",
              "      <td>37.978680</td>\n",
              "      <td>23.754240</td>\n",
              "      <td>Entire home/apt</td>\n",
              "      <td>$94.00</td>\n",
              "      <td>3</td>\n",
              "      <td>354</td>\n",
              "      <td>33</td>\n",
              "      <td>1</td>\n",
              "      <td>0.30</td>\n",
              "    </tr>\n",
              "    <tr>\n",
              "      <th>32</th>\n",
              "      <td>1264236</td>\n",
              "      <td>Athens, Attica, Greece</td>\n",
              "      <td>ΕΜΠΟΡΙΚΟ ΤΡΙΓΩΝΟ-ΠΛΑΚΑ</td>\n",
              "      <td>37.979390</td>\n",
              "      <td>23.725280</td>\n",
              "      <td>Entire home/apt</td>\n",
              "      <td>$116.00</td>\n",
              "      <td>3</td>\n",
              "      <td>139</td>\n",
              "      <td>85</td>\n",
              "      <td>1</td>\n",
              "      <td>0.64</td>\n",
              "    </tr>\n",
              "    <tr>\n",
              "      <th>35</th>\n",
              "      <td>1418201</td>\n",
              "      <td>Athens, Attica, Greece</td>\n",
              "      <td>ΚΕΡΑΜΕΙΚΟΣ</td>\n",
              "      <td>37.980200</td>\n",
              "      <td>23.723570</td>\n",
              "      <td>Entire home/apt</td>\n",
              "      <td>$92.00</td>\n",
              "      <td>2</td>\n",
              "      <td>294</td>\n",
              "      <td>24</td>\n",
              "      <td>50</td>\n",
              "      <td>0.18</td>\n",
              "    </tr>\n",
              "    <tr>\n",
              "      <th>37</th>\n",
              "      <td>1418201</td>\n",
              "      <td>Athens, Attica, Greece</td>\n",
              "      <td>ΚΕΡΑΜΕΙΚΟΣ</td>\n",
              "      <td>37.980200</td>\n",
              "      <td>23.723570</td>\n",
              "      <td>Entire home/apt</td>\n",
              "      <td>$98.00</td>\n",
              "      <td>2</td>\n",
              "      <td>284</td>\n",
              "      <td>26</td>\n",
              "      <td>50</td>\n",
              "      <td>0.24</td>\n",
              "    </tr>\n",
              "    <tr>\n",
              "      <th>38</th>\n",
              "      <td>4777984</td>\n",
              "      <td>Athens, Attica, Greece</td>\n",
              "      <td>ΜΟΥΣΕΙΟ-ΕΞΑΡΧΕΙΑ-ΝΕΑΠΟΛΗ</td>\n",
              "      <td>37.988440</td>\n",
              "      <td>23.738450</td>\n",
              "      <td>Entire home/apt</td>\n",
              "      <td>$74.00</td>\n",
              "      <td>2</td>\n",
              "      <td>210</td>\n",
              "      <td>455</td>\n",
              "      <td>20</td>\n",
              "      <td>3.54</td>\n",
              "    </tr>\n",
              "    <tr>\n",
              "      <th>39</th>\n",
              "      <td>4777984</td>\n",
              "      <td>Athens, Greece</td>\n",
              "      <td>ΜΟΥΣΕΙΟ-ΕΞΑΡΧΕΙΑ-ΝΕΑΠΟΛΗ</td>\n",
              "      <td>37.988410</td>\n",
              "      <td>23.737130</td>\n",
              "      <td>Entire home/apt</td>\n",
              "      <td>$67.00</td>\n",
              "      <td>2</td>\n",
              "      <td>223</td>\n",
              "      <td>444</td>\n",
              "      <td>20</td>\n",
              "      <td>3.49</td>\n",
              "    </tr>\n",
              "  </tbody>\n",
              "</table>\n",
              "</div>\n",
              "    <div class=\"colab-df-buttons\">\n",
              "\n",
              "  <div class=\"colab-df-container\">\n",
              "    <button class=\"colab-df-convert\" onclick=\"convertToInteractive('df-7ad94ba4-ed39-41fb-ab2e-d85c61d7d1a0')\"\n",
              "            title=\"Convert this dataframe to an interactive table.\"\n",
              "            style=\"display:none;\">\n",
              "\n",
              "  <svg xmlns=\"http://www.w3.org/2000/svg\" height=\"24px\" viewBox=\"0 -960 960 960\">\n",
              "    <path d=\"M120-120v-720h720v720H120Zm60-500h600v-160H180v160Zm220 220h160v-160H400v160Zm0 220h160v-160H400v160ZM180-400h160v-160H180v160Zm440 0h160v-160H620v160ZM180-180h160v-160H180v160Zm440 0h160v-160H620v160Z\"/>\n",
              "  </svg>\n",
              "    </button>\n",
              "\n",
              "  <style>\n",
              "    .colab-df-container {\n",
              "      display:flex;\n",
              "      gap: 12px;\n",
              "    }\n",
              "\n",
              "    .colab-df-convert {\n",
              "      background-color: #E8F0FE;\n",
              "      border: none;\n",
              "      border-radius: 50%;\n",
              "      cursor: pointer;\n",
              "      display: none;\n",
              "      fill: #1967D2;\n",
              "      height: 32px;\n",
              "      padding: 0 0 0 0;\n",
              "      width: 32px;\n",
              "    }\n",
              "\n",
              "    .colab-df-convert:hover {\n",
              "      background-color: #E2EBFA;\n",
              "      box-shadow: 0px 1px 2px rgba(60, 64, 67, 0.3), 0px 1px 3px 1px rgba(60, 64, 67, 0.15);\n",
              "      fill: #174EA6;\n",
              "    }\n",
              "\n",
              "    .colab-df-buttons div {\n",
              "      margin-bottom: 4px;\n",
              "    }\n",
              "\n",
              "    [theme=dark] .colab-df-convert {\n",
              "      background-color: #3B4455;\n",
              "      fill: #D2E3FC;\n",
              "    }\n",
              "\n",
              "    [theme=dark] .colab-df-convert:hover {\n",
              "      background-color: #434B5C;\n",
              "      box-shadow: 0px 1px 3px 1px rgba(0, 0, 0, 0.15);\n",
              "      filter: drop-shadow(0px 1px 2px rgba(0, 0, 0, 0.3));\n",
              "      fill: #FFFFFF;\n",
              "    }\n",
              "  </style>\n",
              "\n",
              "    <script>\n",
              "      const buttonEl =\n",
              "        document.querySelector('#df-7ad94ba4-ed39-41fb-ab2e-d85c61d7d1a0 button.colab-df-convert');\n",
              "      buttonEl.style.display =\n",
              "        google.colab.kernel.accessAllowed ? 'block' : 'none';\n",
              "\n",
              "      async function convertToInteractive(key) {\n",
              "        const element = document.querySelector('#df-7ad94ba4-ed39-41fb-ab2e-d85c61d7d1a0');\n",
              "        const dataTable =\n",
              "          await google.colab.kernel.invokeFunction('convertToInteractive',\n",
              "                                                    [key], {});\n",
              "        if (!dataTable) return;\n",
              "\n",
              "        const docLinkHtml = 'Like what you see? Visit the ' +\n",
              "          '<a target=\"_blank\" href=https://colab.research.google.com/notebooks/data_table.ipynb>data table notebook</a>'\n",
              "          + ' to learn more about interactive tables.';\n",
              "        element.innerHTML = '';\n",
              "        dataTable['output_type'] = 'display_data';\n",
              "        await google.colab.output.renderOutput(dataTable, element);\n",
              "        const docLink = document.createElement('div');\n",
              "        docLink.innerHTML = docLinkHtml;\n",
              "        element.appendChild(docLink);\n",
              "      }\n",
              "    </script>\n",
              "  </div>\n",
              "\n",
              "\n",
              "<div id=\"df-07f783e9-fdcf-4567-a69b-350908a932a7\">\n",
              "  <button class=\"colab-df-quickchart\" onclick=\"quickchart('df-07f783e9-fdcf-4567-a69b-350908a932a7')\"\n",
              "            title=\"Suggest charts\"\n",
              "            style=\"display:none;\">\n",
              "\n",
              "<svg xmlns=\"http://www.w3.org/2000/svg\" height=\"24px\"viewBox=\"0 0 24 24\"\n",
              "     width=\"24px\">\n",
              "    <g>\n",
              "        <path d=\"M19 3H5c-1.1 0-2 .9-2 2v14c0 1.1.9 2 2 2h14c1.1 0 2-.9 2-2V5c0-1.1-.9-2-2-2zM9 17H7v-7h2v7zm4 0h-2V7h2v10zm4 0h-2v-4h2v4z\"/>\n",
              "    </g>\n",
              "</svg>\n",
              "  </button>\n",
              "\n",
              "<style>\n",
              "  .colab-df-quickchart {\n",
              "      --bg-color: #E8F0FE;\n",
              "      --fill-color: #1967D2;\n",
              "      --hover-bg-color: #E2EBFA;\n",
              "      --hover-fill-color: #174EA6;\n",
              "      --disabled-fill-color: #AAA;\n",
              "      --disabled-bg-color: #DDD;\n",
              "  }\n",
              "\n",
              "  [theme=dark] .colab-df-quickchart {\n",
              "      --bg-color: #3B4455;\n",
              "      --fill-color: #D2E3FC;\n",
              "      --hover-bg-color: #434B5C;\n",
              "      --hover-fill-color: #FFFFFF;\n",
              "      --disabled-bg-color: #3B4455;\n",
              "      --disabled-fill-color: #666;\n",
              "  }\n",
              "\n",
              "  .colab-df-quickchart {\n",
              "    background-color: var(--bg-color);\n",
              "    border: none;\n",
              "    border-radius: 50%;\n",
              "    cursor: pointer;\n",
              "    display: none;\n",
              "    fill: var(--fill-color);\n",
              "    height: 32px;\n",
              "    padding: 0;\n",
              "    width: 32px;\n",
              "  }\n",
              "\n",
              "  .colab-df-quickchart:hover {\n",
              "    background-color: var(--hover-bg-color);\n",
              "    box-shadow: 0 1px 2px rgba(60, 64, 67, 0.3), 0 1px 3px 1px rgba(60, 64, 67, 0.15);\n",
              "    fill: var(--button-hover-fill-color);\n",
              "  }\n",
              "\n",
              "  .colab-df-quickchart-complete:disabled,\n",
              "  .colab-df-quickchart-complete:disabled:hover {\n",
              "    background-color: var(--disabled-bg-color);\n",
              "    fill: var(--disabled-fill-color);\n",
              "    box-shadow: none;\n",
              "  }\n",
              "\n",
              "  .colab-df-spinner {\n",
              "    border: 2px solid var(--fill-color);\n",
              "    border-color: transparent;\n",
              "    border-bottom-color: var(--fill-color);\n",
              "    animation:\n",
              "      spin 1s steps(1) infinite;\n",
              "  }\n",
              "\n",
              "  @keyframes spin {\n",
              "    0% {\n",
              "      border-color: transparent;\n",
              "      border-bottom-color: var(--fill-color);\n",
              "      border-left-color: var(--fill-color);\n",
              "    }\n",
              "    20% {\n",
              "      border-color: transparent;\n",
              "      border-left-color: var(--fill-color);\n",
              "      border-top-color: var(--fill-color);\n",
              "    }\n",
              "    30% {\n",
              "      border-color: transparent;\n",
              "      border-left-color: var(--fill-color);\n",
              "      border-top-color: var(--fill-color);\n",
              "      border-right-color: var(--fill-color);\n",
              "    }\n",
              "    40% {\n",
              "      border-color: transparent;\n",
              "      border-right-color: var(--fill-color);\n",
              "      border-top-color: var(--fill-color);\n",
              "    }\n",
              "    60% {\n",
              "      border-color: transparent;\n",
              "      border-right-color: var(--fill-color);\n",
              "    }\n",
              "    80% {\n",
              "      border-color: transparent;\n",
              "      border-right-color: var(--fill-color);\n",
              "      border-bottom-color: var(--fill-color);\n",
              "    }\n",
              "    90% {\n",
              "      border-color: transparent;\n",
              "      border-bottom-color: var(--fill-color);\n",
              "    }\n",
              "  }\n",
              "</style>\n",
              "\n",
              "  <script>\n",
              "    async function quickchart(key) {\n",
              "      const quickchartButtonEl =\n",
              "        document.querySelector('#' + key + ' button');\n",
              "      quickchartButtonEl.disabled = true;  // To prevent multiple clicks.\n",
              "      quickchartButtonEl.classList.add('colab-df-spinner');\n",
              "      try {\n",
              "        const charts = await google.colab.kernel.invokeFunction(\n",
              "            'suggestCharts', [key], {});\n",
              "      } catch (error) {\n",
              "        console.error('Error during call to suggestCharts:', error);\n",
              "      }\n",
              "      quickchartButtonEl.classList.remove('colab-df-spinner');\n",
              "      quickchartButtonEl.classList.add('colab-df-quickchart-complete');\n",
              "    }\n",
              "    (() => {\n",
              "      let quickchartButtonEl =\n",
              "        document.querySelector('#df-07f783e9-fdcf-4567-a69b-350908a932a7 button');\n",
              "      quickchartButtonEl.style.display =\n",
              "        google.colab.kernel.accessAllowed ? 'block' : 'none';\n",
              "    })();\n",
              "  </script>\n",
              "</div>\n",
              "    </div>\n",
              "  </div>\n"
            ]
          },
          "metadata": {},
          "execution_count": 163
        }
      ]
    },
    {
      "cell_type": "markdown",
      "source": [
        "# **Data Visualization**\n",
        "\n",
        "*Exploring the data by analyzing its statistics and visualizing the values of features and correlations between different features. Explaining the process and the results*"
      ],
      "metadata": {
        "id": "KroOH_u-XyCj"
      }
    },
    {
      "cell_type": "code",
      "source": [
        "airbnb['neighbourhood_cleansed'].unique()\n"
      ],
      "metadata": {
        "colab": {
          "base_uri": "https://localhost:8080/"
        },
        "id": "D9RMVDGyXvad",
        "outputId": "4190e1c6-37e2-4f09-843d-d282c63b64be"
      },
      "execution_count": 164,
      "outputs": [
        {
          "output_type": "execute_result",
          "data": {
            "text/plain": [
              "array(['ΑΜΠΕΛΟΚΗΠΟΙ', 'ΜΟΥΣΕΙΟ-ΕΞΑΡΧΕΙΑ-ΝΕΑΠΟΛΗ',\n",
              "       'ΕΜΠΟΡΙΚΟ ΤΡΙΓΩΝΟ-ΠΛΑΚΑ', 'ΑΓΙΟΣ ΝΙΚΟΛΑΟΣ', 'ΠΛΑΤΕΙΑ ΑΜΕΡΙΚΗΣ',\n",
              "       'ΣΤΑΔΙΟ', 'ΑΓΙΟΣ ΚΩΝΣΤΑΝΤΙΝΟΣ-ΠΛΑΤΕΙΑ ΒΑΘΗΣ', 'ΠΑΓΚΡΑΤΙ', 'ΙΛΙΣΙΑ',\n",
              "       'ΚΕΡΑΜΕΙΚΟΣ', 'ΑΝΩ ΚΥΨΕΛΗ', 'ΠΛΑΤΕΙΑ ΑΤΤΙΚΗΣ', 'ΚΟΛΩΝΑΚΙ',\n",
              "       'ΑΚΡΟΠΟΛΗ', 'ΘΗΣΕΙΟ', 'ΠΕΔΙΟ ΑΡΕΩΣ', 'ΛΥΚΑΒΗΤΤΟΣ',\n",
              "       'ΚΟΥΚΑΚΙ-ΜΑΚΡΥΓΙΑΝΝΗ', 'ΖΑΠΠΕΙΟ', 'ΑΚΑΔΗΜΙΑ ΠΛΑΤΩΝΟΣ', 'ΚΥΨΕΛΗ',\n",
              "       'ΓΟΥΒΑ', 'ΠΕΤΡΑΛΩΝΑ', 'ΠΡΟΜΠΟΝΑ', 'ΓΟΥΔΙ', 'ΓΚΑΖΙ', 'ΝΙΡΒΑΝΑ',\n",
              "       'ΝΕΟΣ ΚΟΣΜΟΣ', 'ΚΟΛΩΝΟΣ', 'ΒΟΤΑΝΙΚΟΣ', 'ΓΚΥΖΗ', 'ΝΕΑ ΚΥΨΕΛΗ',\n",
              "       'ΠΕΝΤΑΓΩΝΟ', 'ΠΑΤΗΣΙΑ', 'ΣΤΑΘΜΟΣ ΛΑΡΙΣΗΣ', 'ΑΝΩ ΠΑΤΗΣΙΑ',\n",
              "       'ΕΛΛΗΝΟΡΩΣΩΝ', 'ΚΟΛΟΚΥΝΘΟΥ', 'ΣΕΠΟΛΙΑ', 'ΡΙΖΟΥΠΟΛΗ',\n",
              "       '1Ο ΝΕΚΡΟΤΑΦΕΙΟ', 'ΠΟΛΥΓΩΝΟ', 'ΡΗΓΙΛΛΗΣ', 'ΑΓΙΟΣ ΕΛΕΥΘΕΡΙΟΣ'],\n",
              "      dtype=object)"
            ]
          },
          "metadata": {},
          "execution_count": 164
        }
      ]
    },
    {
      "cell_type": "markdown",
      "source": [
        "**Plot all Neighbourhood Group**"
      ],
      "metadata": {
        "id": "ucHRpZ-EaG3H"
      }
    },
    {
      "cell_type": "markdown",
      "source": [
        "The problem that arises now, is that the columns don't get recognised as they are written in greek letters. So we will replace those with their existent english one"
      ],
      "metadata": {
        "id": "BB5bBOCcb-vO"
      }
    },
    {
      "cell_type": "code",
      "source": [
        "airbnb.replace(to_replace='ΠΑΓΚΡΑΤΙ',value='Pangrati',inplace=True)\n",
        "airbnb.replace(to_replace='ΕΜΠΟΡΙΚΟ ΤΡΙΓΩΝΟ-ΠΛΑΚΑ',value='Emporiko Trigono-Plaka',inplace=True)\n",
        "airbnb.replace(to_replace='ΑΓΙΟΣ ΚΩΝΣΤΑΝΤΙΝΟΣ-ΠΛΑΤΕΙΑ ΒΑΘΗΣ',value='Agios Konstantinos-Plateia Vathis',inplace=True)\n",
        "airbnb.replace(to_replace='ΜΟΥΣΕΙΟ-ΕΞΑΡΧΕΙΑ-ΝΕΑΠΟΛΗ',value=' Mouseio-Exarcheia-Neapoli',inplace=True)\n",
        "airbnb.replace(to_replace='ΠΕΝΤΑΓΩΝΟ',value='Pentagono',inplace=True)\n",
        "airbnb.replace(to_replace='ΑΜΠΕΛΟΚΗΠΟΙ',value='Ampelokipoi',inplace=True)\n",
        "airbnb.replace(to_replace='ΑΓΙΟΣ ΝΙΚΟΛΑΟΣ',value='Agios Nikolaos',inplace=True)\n",
        "airbnb.replace(to_replace='ΠΛΑΤΕΙΑ ΑΜΕΡΙΚΗΣ',value='Plateia Amerikis',inplace=True)\n",
        "airbnb.replace(to_replace='ΣΤΑΔΙΟ',value='Stadio',inplace=True)\n",
        "airbnb.replace(to_replace='ΙΛΙΣΙΑ',value='Ilissia',inplace=True)\n",
        "airbnb.replace(to_replace='ΚΕΡΑΜΕΙΚΟΣ',value='Keramikos',inplace=True)\n",
        "airbnb.replace(to_replace='ΑΝΩ ΚΥΨΕΛΗ',value='Ano Kipseli',inplace=True)\n",
        "airbnb.replace(to_replace='ΠΛΑΤΕΙΑ ΑΤΤΙΚΗΣ',value='Plateia Attikis',inplace=True)\n",
        "airbnb.replace(to_replace='ΚΟΛΩΝΑΚΙ',value='Kolonaki',inplace=True)\n",
        "airbnb.replace(to_replace='ΑΚΡΟΠΟΛΗ',value='Akropoli',inplace=True)\n",
        "airbnb.replace(to_replace='ΘΗΣΕΙΟ',value='Thiseio',inplace=True)\n",
        "airbnb.replace(to_replace='ΠΕΔΙΟ ΑΡΕΩΣ',value='Pedio Areos',inplace=True)\n",
        "airbnb.replace(to_replace='ΛΥΚΑΒΗΤΤΟΣ',value='Lykavitos',inplace=True)\n",
        "airbnb.replace(to_replace='ΚΟΥΚΑΚΙ-ΜΑΚΡΥΓΙΑΝΝΗ',value='Koukaki-Makrigianni',inplace=True)\n",
        "airbnb.replace(to_replace='ΖΑΠΠΕΙΟ',value='Zappeio',inplace=True)\n",
        "airbnb.replace(to_replace='ΑΚΑΔΗΜΙΑ ΠΛΑΤΩΝΟΣ',value='Akadimia Platonos',inplace=True)\n",
        "airbnb.replace(to_replace='ΚΥΨΕΛΗ',value='Kipseli',inplace=True)\n",
        "airbnb.replace(to_replace='ΓΟΥΒΑ',value='Gouva',inplace=True)\n",
        "airbnb.replace(to_replace='ΠΕΤΡΑΛΩΝΑ',value='Petralona',inplace=True)\n",
        "airbnb.replace(to_replace='ΠΡΟΜΠΟΝΑ',value='Prompona',inplace=True)\n",
        "airbnb.replace(to_replace='ΓΟΥΔΙ',value='Goudi',inplace=True)\n",
        "airbnb.replace(to_replace='ΓΚΑΖΙ',value='Gazi',inplace=True)\n",
        "airbnb.replace(to_replace='ΝΙΡΒΑΝΑ',value='Nirvana',inplace=True)\n",
        "airbnb.replace(to_replace='ΝΕΟΣ ΚΟΣΜΟΣ',value='Neos Kosmos',inplace=True)\n",
        "airbnb.replace(to_replace='ΚΟΛΩΝΟΣ',value='Kolonos',inplace=True)\n",
        "airbnb.replace(to_replace='ΒΟΤΑΝΙΚΟΣ',value='Votanikos',inplace=True)\n",
        "airbnb.replace(to_replace='ΓΚΥΖΗ',value='Gkizi',inplace=True)\n",
        "airbnb.replace(to_replace='ΝΕΑ ΚΥΨΕΛΗ',value='Nea Kipseli',inplace=True)\n",
        "airbnb.replace(to_replace='ΠΕΝΤΑΓΩΝΟ',value='Pentagono',inplace=True)\n",
        "airbnb.replace(to_replace='ΠΑΤΗΣΙΑ',value='Patisia',inplace=True)\n",
        "airbnb.replace(to_replace='ΣΤΑΘΜΟΣ ΛΑΡΙΣΗΣ',value='Stathmos Larissis',inplace=True)\n",
        "airbnb.replace(to_replace='ΑΝΩ ΠΑΤΗΣΙΑ',value='Ano Patisia',inplace=True)\n",
        "airbnb.replace(to_replace='ΕΛΛΗΝΟΡΩΣΩΝ',value='Ellinoroson',inplace=True)\n",
        "airbnb.replace(to_replace='ΚΟΛΟΚΥΝΘΟΥ',value='Kolokinthou',inplace=True)\n",
        "airbnb.replace(to_replace='ΣΕΠΟΛΙΑ',value='Sepolia',inplace=True)\n",
        "airbnb.replace(to_replace='ΡΙΖΟΥΠΟΛΗ',value='Rizoupoli',inplace=True)\n",
        "airbnb.replace(to_replace='1Ο ΝΕΚΡΟΤΑΦΕΙΟ',value='10 Nekrotafeio',inplace=True)\n",
        "airbnb.replace(to_replace='ΠΟΛΥΓΩΝΟ',value='Poligono',inplace=True)\n",
        "airbnb.replace(to_replace='ΡΗΓΙΛΛΗΣ',value='Rigillis',inplace=True)\n",
        "airbnb.replace(to_replace='ΑΓΙΟΣ ΕΛΕΥΘΕΡΙΟΣ',value='Agios Eleftherios',inplace=True)\n",
        "\n",
        "\n",
        "\n",
        "\n",
        "\n",
        "\n",
        "\n",
        "\n",
        "\n",
        "\n",
        "\n",
        "\n",
        "\n",
        "\n",
        "\n",
        "\n",
        "\n",
        "\n",
        "\n",
        "\n",
        "\n",
        "\n"
      ],
      "metadata": {
        "id": "Mpb8iZCuaDmL"
      },
      "execution_count": 165,
      "outputs": []
    },
    {
      "cell_type": "code",
      "source": [
        "airbnb['neighbourhood_cleansed'].unique()"
      ],
      "metadata": {
        "colab": {
          "base_uri": "https://localhost:8080/"
        },
        "id": "FQY5WV07beSR",
        "outputId": "c4869453-21c3-47d0-fdb8-f9295669af67"
      },
      "execution_count": 166,
      "outputs": [
        {
          "output_type": "execute_result",
          "data": {
            "text/plain": [
              "array(['Ampelokipoi', ' Mouseio-Exarcheia-Neapoli',\n",
              "       'Emporiko Trigono-Plaka', 'Agios Nikolaos', 'Plateia Amerikis',\n",
              "       'Stadio', 'Agios Konstantinos-Plateia Vathis', 'Pangrati',\n",
              "       'Ilissia', 'Keramikos', 'Ano Kipseli', 'Plateia Attikis',\n",
              "       'Kolonaki', 'Akropoli', 'Thiseio', 'Pedio Areos', 'Lykavitos',\n",
              "       'Koukaki-Makrigianni', 'Zappeio', 'Akadimia Platonos', 'Kipseli',\n",
              "       'Gouva', 'Petralona', 'Prompona', 'Goudi', 'Gazi', 'Nirvana',\n",
              "       'Neos Kosmos', 'Kolonos', 'Votanikos', 'Gkizi', 'Nea Kipseli',\n",
              "       'Pentagono', 'Patisia', 'Stathmos Larissis', 'Ano Patisia',\n",
              "       'Ellinoroson', 'Kolokinthou', 'Sepolia', 'Rizoupoli',\n",
              "       '10 Nekrotafeio', 'Poligono', 'Rigillis', 'Agios Eleftherios'],\n",
              "      dtype=object)"
            ]
          },
          "metadata": {},
          "execution_count": 166
        }
      ]
    },
    {
      "cell_type": "code",
      "source": [
        "airbnb.groupby(by='neighbourhood_cleansed',as_index=False).agg({'host_id':'nunique'}).sort_values(['host_id'],ascending=False,ignore_index=True).plot.bar(x='neighbourhood_cleansed',color='blue',fontsize=15,figsize=(20,5))\n",
        "plt.title('Neighbourhoods with the most entries',fontweight='bold',fontsize=15,pad=10)\n",
        "plt.ylabel('#Entries',fontweight='bold',fontsize=15)\n",
        "plt.xlabel('Neighbourhoods',fontweight='bold',fontsize=15)\n",
        "plt.show()"
      ],
      "metadata": {
        "id": "0sncMSpYh9CI",
        "outputId": "954a8d31-e641-47e1-c6bf-34bb672f2cbd",
        "colab": {
          "base_uri": "https://localhost:8080/",
          "height": 720
        }
      },
      "execution_count": 167,
      "outputs": [
        {
          "output_type": "display_data",
          "data": {
            "text/plain": [
              "<Figure size 2000x500 with 1 Axes>"
            ],
            "image/png": "[encoded data removed]"
          },
          "metadata": {}
        }
      ]
    },
    {
      "cell_type": "markdown",
      "source": [
        "**Let's see a Map of our Neighbourhood group**"
      ],
      "metadata": {
        "id": "ZXRVIG22FeBm"
      }
    },
    {
      "cell_type": "code",
      "source": [
        "plt.figure(figsize=(10,6))\n",
        "sns.scatterplot(x=airbnb.longitude,y=airbnb.latitude,hue=airbnb.neighbourhood_cleansed)\n",
        "\n",
        "# Add labels and title\n",
        "plt.title('Airbnb Listings by Neighborhood')\n",
        "plt.xlabel('Longitude')\n",
        "plt.ylabel('Latitude')\n",
        "\n",
        "plt.ioff()\n",
        "\n",
        "# Show the plot\n",
        "#plt.show()"
      ],
      "metadata": {
        "id": "QYYKk_5JGu2F",
        "outputId": "97efeed1-6b5c-40b8-b809-a6a105456168",
        "colab": {
          "base_uri": "https://localhost:8080/"
        }
      },
      "execution_count": null,
      "outputs": [
        {
          "output_type": "execute_result",
          "data": {
            "text/plain": [
              "<contextlib.ExitStack at 0x7ba9e98b7e50>"
            ]
          },
          "metadata": {},
          "execution_count": 168
        }
      ]
    },
    {
      "cell_type": "code",
      "source": [
        "#examining the unique values of room_type as this column will appear very handy for later analysis\n",
        "airbnb.room_type.unique()\n"
      ],
      "metadata": {
        "id": "iq-ipeuUJURu"
      },
      "execution_count": null,
      "outputs": []
    },
    {
      "cell_type": "code",
      "source": [
        "#let's see what hosts (IDs) have the most listings on Airbnb platform and taking advantage of this service\n",
        "\n",
        "top_host=airbnb.host_id.value_counts().head(10)\n",
        "top_host"
      ],
      "metadata": {
        "id": "Q6su0qi0TTJL"
      },
      "execution_count": null,
      "outputs": []
    },
    {
      "cell_type": "code",
      "source": [
        "#setting figure size for future visualizations. (something I learned that is a good practise  while I was making this analysis,\n",
        "# so I wont replace the older plots with this setting.)\n",
        "\n",
        "sns.set(rc={'figure.figsize':(10,8)})\n",
        "sns.set_style('white')"
      ],
      "metadata": {
        "id": "EGQV7fayUKrW"
      },
      "execution_count": null,
      "outputs": []
    },
    {
      "cell_type": "code",
      "source": [
        "top_host_df=pd.DataFrame(top_host)\n",
        "top_host_df.reset_index(inplace=True)\n",
        "top_host_df.rename(columns={'index':'Host_ID', 'host_id': 'P_Count'}, inplace=True)\n",
        "top_host_df"
      ],
      "metadata": {
        "id": "lU0s9t9jU6N8"
      },
      "execution_count": null,
      "outputs": []
    },
    {
      "cell_type": "code",
      "source": [
        "viz_1=sns.barplot(x=\"Host_ID\", y=\"P_Count\", data=top_host_df,\n",
        "                 palette='Blues_d')\n",
        "viz_1.set_title('Hosts with the most listings in Athens')\n",
        "viz_1.set_ylabel('Count of listings')\n",
        "viz_1.set_xlabel('Host IDs')\n",
        "viz_1.set_xticklabels(viz_1.get_xticklabels(), rotation=45)"
      ],
      "metadata": {
        "id": "BSt0V0GMV04l"
      },
      "execution_count": null,
      "outputs": []
    }
  ]
}