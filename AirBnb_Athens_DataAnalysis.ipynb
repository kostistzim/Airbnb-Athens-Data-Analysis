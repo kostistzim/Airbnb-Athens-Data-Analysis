{
  "nbformat": 4,
  "nbformat_minor": 0,
  "metadata": {
    "colab": {
      "provenance": [],
      "authorship_tag": "ABX9TyPyUBz4XZe8B3gi341ElYQJ",
      "include_colab_link": true
    },
    "kernelspec": {
      "name": "python3",
      "display_name": "Python 3"
    },
    "language_info": {
      "name": "python"
    }
  },
  "cells": [
    {
      "cell_type": "markdown",
      "metadata": {
        "id": "view-in-github",
        "colab_type": "text"
      },
      "source": [
        "<a href=\"https://colab.research.google.com/github/kostistzim/Airbnb-Athens-Data-Analysis/blob/main/AirBnb_Athens_DataAnalysis.ipynb\" target=\"_parent\"><img src=\"https://colab.research.google.com/assets/colab-badge.svg\" alt=\"Open In Colab\"/></a>"
      ]
    },
    {
      "cell_type": "code",
      "source": [
        "import numpy as np\n",
        "import pandas as pd\n",
        "import matplotlib.pyplot as plt\n",
        "import matplotlib.image as mpimg\n",
        "%matplotlib inline\n",
        "import seaborn as sns\n",
        "import warnings\n",
        "warnings.filterwarnings('ignore')\n",
        "\n",
        "\n",
        "\n",
        "\n"
      ],
      "metadata": {
        "id": "vHnwJSP_x5Z0"
      },
      "execution_count": 76,
      "outputs": []
    },
    {
      "cell_type": "code",
      "execution_count": 77,
      "metadata": {
        "colab": {
          "base_uri": "https://localhost:8080/"
        },
        "id": "29SsK1-wu-vB",
        "outputId": "b8da8a1f-fe9a-480c-9da4-9a5b26b27197"
      },
      "outputs": [
        {
          "output_type": "stream",
          "name": "stdout",
          "text": [
            "Drive already mounted at /content/drive; to attempt to forcibly remount, call drive.mount(\"/content/drive\", force_remount=True).\n"
          ]
        }
      ],
      "source": [
        "from google.colab import drive\n",
        "drive.mount('/content/drive')\n"
      ]
    },
    {
      "cell_type": "code",
      "source": [
        "listings = pd.read_csv('/content/drive/MyDrive/airbnbanalysis/listings.csv')\n",
        "\n",
        "list(listings_file.columns)"
      ],
      "metadata": {
        "colab": {
          "base_uri": "https://localhost:8080/"
        },
        "id": "9j_pFbJRxfsi",
        "outputId": "c4423e17-579b-4986-f50b-e3db06be2f39"
      },
      "execution_count": 78,
      "outputs": [
        {
          "output_type": "execute_result",
          "data": {
            "text/plain": [
              "['id',\n",
              " 'listing_url',\n",
              " 'scrape_id',\n",
              " 'last_scraped',\n",
              " 'source',\n",
              " 'name',\n",
              " 'description',\n",
              " 'neighborhood_overview',\n",
              " 'picture_url',\n",
              " 'host_id',\n",
              " 'host_url',\n",
              " 'host_name',\n",
              " 'host_since',\n",
              " 'host_location',\n",
              " 'host_about',\n",
              " 'host_response_time',\n",
              " 'host_response_rate',\n",
              " 'host_acceptance_rate',\n",
              " 'host_is_superhost',\n",
              " 'host_thumbnail_url',\n",
              " 'host_picture_url',\n",
              " 'host_neighbourhood',\n",
              " 'host_listings_count',\n",
              " 'host_total_listings_count',\n",
              " 'host_verifications',\n",
              " 'host_has_profile_pic',\n",
              " 'host_identity_verified',\n",
              " 'neighbourhood',\n",
              " 'neighbourhood_cleansed',\n",
              " 'neighbourhood_group_cleansed',\n",
              " 'latitude',\n",
              " 'longitude',\n",
              " 'property_type',\n",
              " 'room_type',\n",
              " 'accommodates',\n",
              " 'bathrooms',\n",
              " 'bathrooms_text',\n",
              " 'bedrooms',\n",
              " 'beds',\n",
              " 'amenities',\n",
              " 'price',\n",
              " 'minimum_nights',\n",
              " 'maximum_nights',\n",
              " 'minimum_minimum_nights',\n",
              " 'maximum_minimum_nights',\n",
              " 'minimum_maximum_nights',\n",
              " 'maximum_maximum_nights',\n",
              " 'minimum_nights_avg_ntm',\n",
              " 'maximum_nights_avg_ntm',\n",
              " 'calendar_updated',\n",
              " 'has_availability',\n",
              " 'availability_30',\n",
              " 'availability_60',\n",
              " 'availability_90',\n",
              " 'availability_365',\n",
              " 'calendar_last_scraped',\n",
              " 'number_of_reviews',\n",
              " 'number_of_reviews_ltm',\n",
              " 'number_of_reviews_l30d',\n",
              " 'first_review',\n",
              " 'last_review',\n",
              " 'review_scores_rating',\n",
              " 'review_scores_accuracy',\n",
              " 'review_scores_cleanliness',\n",
              " 'review_scores_checkin',\n",
              " 'review_scores_communication',\n",
              " 'review_scores_location',\n",
              " 'review_scores_value',\n",
              " 'license',\n",
              " 'instant_bookable',\n",
              " 'calculated_host_listings_count',\n",
              " 'calculated_host_listings_count_entire_homes',\n",
              " 'calculated_host_listings_count_private_rooms',\n",
              " 'calculated_host_listings_count_shared_rooms',\n",
              " 'reviews_per_month']"
            ]
          },
          "metadata": {},
          "execution_count": 78
        }
      ]
    },
    {
      "cell_type": "markdown",
      "source": [
        "**for this analysis we will use specific columns of our interest, listed below.**"
      ],
      "metadata": {
        "id": "AVe_XEQyHo_Q"
      }
    },
    {
      "cell_type": "code",
      "source": [
        "columns= ['id',\n",
        "          'name',\n",
        "          'host_id',\n",
        "          'host_name',\n",
        "          'neighbourhood_cleansed',\n",
        "          'neighbourhood',\n",
        "          'latitude',\n",
        "          'longitude',\n",
        "          'room_type',\n",
        "          'price',\n",
        "          'minimum_nights',\n",
        "          'number_of_reviews',\n",
        "          'last_review',\n",
        "          'reviews_per_month',\n",
        "          'calculated_host_listings_count',\n",
        "          'availability_365']\n",
        "\n",
        "airbnb = pd.read_csv('/content/drive/MyDrive/airbnbanalysis/listings.csv', usecols= columns)\n"
      ],
      "metadata": {
        "id": "tE82GS6C3HMu"
      },
      "execution_count": 79,
      "outputs": []
    },
    {
      "cell_type": "markdown",
      "source": [
        "**Print the Shape of the dataset**"
      ],
      "metadata": {
        "id": "bkcsQugHD4jp"
      }
    },
    {
      "cell_type": "code",
      "source": [
        "airbnb.shape"
      ],
      "metadata": {
        "colab": {
          "base_uri": "https://localhost:8080/"
        },
        "id": "hfzt6PxKDwLE",
        "outputId": "d98b778c-d0d0-4f30-a213-76c4d28f893a"
      },
      "execution_count": 80,
      "outputs": [
        {
          "output_type": "execute_result",
          "data": {
            "text/plain": [
              "(12955, 16)"
            ]
          },
          "metadata": {},
          "execution_count": 80
        }
      ]
    },
    {
      "cell_type": "markdown",
      "source": [
        "**Print the Datatypes of the dataset**"
      ],
      "metadata": {
        "id": "p6POVlAUD-05"
      }
    },
    {
      "cell_type": "code",
      "source": [
        "airbnb.dtypes"
      ],
      "metadata": {
        "colab": {
          "base_uri": "https://localhost:8080/"
        },
        "id": "ZUyoZ0XTDECy",
        "outputId": "9c872988-5345-436f-ee4c-c3196c0814cb"
      },
      "execution_count": 81,
      "outputs": [
        {
          "output_type": "execute_result",
          "data": {
            "text/plain": [
              "id                                  int64\n",
              "name                               object\n",
              "host_id                             int64\n",
              "host_name                          object\n",
              "neighbourhood                      object\n",
              "                                   ...   \n",
              "availability_365                    int64\n",
              "number_of_reviews                   int64\n",
              "last_review                        object\n",
              "calculated_host_listings_count      int64\n",
              "reviews_per_month                 float64\n",
              "Length: 16, dtype: object"
            ]
          },
          "metadata": {},
          "execution_count": 81
        }
      ]
    },
    {
      "cell_type": "code",
      "source": [
        "airbnb.info()"
      ],
      "metadata": {
        "colab": {
          "base_uri": "https://localhost:8080/"
        },
        "id": "COmum0SzEbWu",
        "outputId": "e7859bab-fc5d-4097-af33-d5047f031281"
      },
      "execution_count": 82,
      "outputs": [
        {
          "output_type": "stream",
          "name": "stdout",
          "text": [
            "<class 'pandas.core.frame.DataFrame'>\n",
            "RangeIndex: 12955 entries, 0 to 12954\n",
            "Data columns (total 16 columns):\n",
            " #   Column                          Non-Null Count  Dtype  \n",
            "---  ------                          --------------  -----  \n",
            " 0   id                              12955 non-null  int64  \n",
            " 1   name                            12955 non-null  object \n",
            " 2   host_id                         12955 non-null  int64  \n",
            " 3   host_name                       12949 non-null  object \n",
            " 4   neighbourhood                   8076 non-null   object \n",
            " 5   neighbourhood_cleansed          12955 non-null  object \n",
            " 6   latitude                        12955 non-null  float64\n",
            " 7   longitude                       12955 non-null  float64\n",
            " 8   room_type                       12955 non-null  object \n",
            " 9   price                           12955 non-null  object \n",
            " 10  minimum_nights                  12955 non-null  int64  \n",
            " 11  availability_365                12955 non-null  int64  \n",
            " 12  number_of_reviews               12955 non-null  int64  \n",
            " 13  last_review                     10999 non-null  object \n",
            " 14  calculated_host_listings_count  12955 non-null  int64  \n",
            " 15  reviews_per_month               10999 non-null  float64\n",
            "dtypes: float64(3), int64(6), object(7)\n",
            "memory usage: 1.6+ MB\n"
          ]
        }
      ]
    },
    {
      "cell_type": "code",
      "source": [],
      "metadata": {
        "id": "RMEayOlzE0mn"
      },
      "execution_count": 82,
      "outputs": []
    },
    {
      "cell_type": "markdown",
      "source": [
        "**Removing the duplicates, if any**"
      ],
      "metadata": {
        "id": "BSPntLxgH-53"
      }
    },
    {
      "cell_type": "code",
      "source": [
        "airbnb.duplicated().sum()\n",
        "\n"
      ],
      "metadata": {
        "colab": {
          "base_uri": "https://localhost:8080/"
        },
        "id": "JN8VatFCH165",
        "outputId": "164f4194-5ebd-4fdd-e774-f0c63a723d95"
      },
      "execution_count": 83,
      "outputs": [
        {
          "output_type": "execute_result",
          "data": {
            "text/plain": [
              "0"
            ]
          },
          "metadata": {},
          "execution_count": 83
        }
      ]
    },
    {
      "cell_type": "markdown",
      "source": [
        " here we dont seem to have any duplicates as the sum is 0, but, if we had any we would use\n",
        "\n",
        "\n",
        "```\n",
        "# airbnb.drop_duplicates(inplace=True)\n",
        "```\n",
        "\n",
        "\n",
        " inplace=True parameter modifies the existent dataframe without creating a new one."
      ],
      "metadata": {
        "id": "vOkkFtFKI4VK"
      }
    },
    {
      "cell_type": "markdown",
      "source": [
        "**Check for the null values in each column**\n"
      ],
      "metadata": {
        "id": "j0vAOhwfJIWp"
      }
    },
    {
      "cell_type": "markdown",
      "source": [],
      "metadata": {
        "id": "r81PEj8RH9fI"
      }
    },
    {
      "cell_type": "code",
      "source": [
        "airbnb.isnull().sum()"
      ],
      "metadata": {
        "colab": {
          "base_uri": "https://localhost:8080/"
        },
        "id": "ZQpuO2B7JFbc",
        "outputId": "805af87b-c602-46a5-aeca-8aeea0bef8d6"
      },
      "execution_count": 84,
      "outputs": [
        {
          "output_type": "execute_result",
          "data": {
            "text/plain": [
              "id                                   0\n",
              "name                                 0\n",
              "host_id                              0\n",
              "host_name                            6\n",
              "neighbourhood                     4879\n",
              "                                  ... \n",
              "availability_365                     0\n",
              "number_of_reviews                    0\n",
              "last_review                       1956\n",
              "calculated_host_listings_count       0\n",
              "reviews_per_month                 1956\n",
              "Length: 16, dtype: int64"
            ]
          },
          "metadata": {},
          "execution_count": 84
        }
      ]
    },
    {
      "cell_type": "markdown",
      "source": [
        "**drop unnecessary columns**"
      ],
      "metadata": {
        "id": "oFxpMs-cJtpo"
      }
    },
    {
      "cell_type": "code",
      "source": [
        "airbnb.drop(['name', 'id', 'host_name','last_review'], axis= 1, inplace=True)\n"
      ],
      "metadata": {
        "id": "hnXu3QV9J0Yd"
      },
      "execution_count": 85,
      "outputs": []
    },
    {
      "cell_type": "markdown",
      "source": [
        "**Examining our latest changes**"
      ],
      "metadata": {
        "id": "6pZ7i3tWKOhA"
      }
    },
    {
      "cell_type": "code",
      "source": [
        "airbnb.head(5)\n"
      ],
      "metadata": {
        "colab": {
          "base_uri": "https://localhost:8080/",
          "height": 313
        },
        "id": "juuOk-soKKkD",
        "outputId": "8b8ef512-688f-4f73-d95f-f8a223f86e5d"
      },
      "execution_count": 86,
      "outputs": [
        {
          "output_type": "execute_result",
          "data": {
            "text/plain": [
              "   host_id           neighbourhood    neighbourhood_cleansed  latitude  \\\n",
              "0    37177  Athens, Attica, Greece               ΑΜΠΕΛΟΚΗΠΟΙ  37.98863   \n",
              "1    37177  Athens, Attica, Greece               ΑΜΠΕΛΟΚΗΠΟΙ  37.98903   \n",
              "2    37177  Athens, Attica, Greece               ΑΜΠΕΛΟΚΗΠΟΙ  37.98888   \n",
              "3    37177  Athens, Attica, Greece               ΑΜΠΕΛΟΚΗΠΟΙ  37.98903   \n",
              "4  3745284  Athens, Attica, Greece  ΜΟΥΣΕΙΟ-ΕΞΑΡΧΕΙΑ-ΝΕΑΠΟΛΗ  37.98985   \n",
              "\n",
              "   longitude        room_type    price  minimum_nights  availability_365  \\\n",
              "0   23.76527  Entire home/apt  $144.00               1               359   \n",
              "1   23.76448  Entire home/apt   $70.00               1                74   \n",
              "2   23.76473  Entire home/apt   $85.00               1                52   \n",
              "3   23.76448  Entire home/apt   $60.00               1                73   \n",
              "4   23.73779  Entire home/apt   $35.00               3               152   \n",
              "\n",
              "   number_of_reviews  calculated_host_listings_count  reviews_per_month  \n",
              "0                 42                               7               0.28  \n",
              "1                 66                               7               0.49  \n",
              "2                 92                               7               0.69  \n",
              "3                 30                               7               0.19  \n",
              "4                514                               2               3.87  "
            ],
            "text/html": [
              "\n",
              "  <div id=\"df-be11c419-b43f-4463-867c-5c96417816af\" class=\"colab-df-container\">\n",
              "    <div>\n",
              "<style scoped>\n",
              "    .dataframe tbody tr th:only-of-type {\n",
              "        vertical-align: middle;\n",
              "    }\n",
              "\n",
              "    .dataframe tbody tr th {\n",
              "        vertical-align: top;\n",
              "    }\n",
              "\n",
              "    .dataframe thead th {\n",
              "        text-align: right;\n",
              "    }\n",
              "</style>\n",
              "<table border=\"1\" class=\"dataframe\">\n",
              "  <thead>\n",
              "    <tr style=\"text-align: right;\">\n",
              "      <th></th>\n",
              "      <th>host_id</th>\n",
              "      <th>neighbourhood</th>\n",
              "      <th>neighbourhood_cleansed</th>\n",
              "      <th>latitude</th>\n",
              "      <th>longitude</th>\n",
              "      <th>room_type</th>\n",
              "      <th>price</th>\n",
              "      <th>minimum_nights</th>\n",
              "      <th>availability_365</th>\n",
              "      <th>number_of_reviews</th>\n",
              "      <th>calculated_host_listings_count</th>\n",
              "      <th>reviews_per_month</th>\n",
              "    </tr>\n",
              "  </thead>\n",
              "  <tbody>\n",
              "    <tr>\n",
              "      <th>0</th>\n",
              "      <td>37177</td>\n",
              "      <td>Athens, Attica, Greece</td>\n",
              "      <td>ΑΜΠΕΛΟΚΗΠΟΙ</td>\n",
              "      <td>37.98863</td>\n",
              "      <td>23.76527</td>\n",
              "      <td>Entire home/apt</td>\n",
              "      <td>$144.00</td>\n",
              "      <td>1</td>\n",
              "      <td>359</td>\n",
              "      <td>42</td>\n",
              "      <td>7</td>\n",
              "      <td>0.28</td>\n",
              "    </tr>\n",
              "    <tr>\n",
              "      <th>1</th>\n",
              "      <td>37177</td>\n",
              "      <td>Athens, Attica, Greece</td>\n",
              "      <td>ΑΜΠΕΛΟΚΗΠΟΙ</td>\n",
              "      <td>37.98903</td>\n",
              "      <td>23.76448</td>\n",
              "      <td>Entire home/apt</td>\n",
              "      <td>$70.00</td>\n",
              "      <td>1</td>\n",
              "      <td>74</td>\n",
              "      <td>66</td>\n",
              "      <td>7</td>\n",
              "      <td>0.49</td>\n",
              "    </tr>\n",
              "    <tr>\n",
              "      <th>2</th>\n",
              "      <td>37177</td>\n",
              "      <td>Athens, Attica, Greece</td>\n",
              "      <td>ΑΜΠΕΛΟΚΗΠΟΙ</td>\n",
              "      <td>37.98888</td>\n",
              "      <td>23.76473</td>\n",
              "      <td>Entire home/apt</td>\n",
              "      <td>$85.00</td>\n",
              "      <td>1</td>\n",
              "      <td>52</td>\n",
              "      <td>92</td>\n",
              "      <td>7</td>\n",
              "      <td>0.69</td>\n",
              "    </tr>\n",
              "    <tr>\n",
              "      <th>3</th>\n",
              "      <td>37177</td>\n",
              "      <td>Athens, Attica, Greece</td>\n",
              "      <td>ΑΜΠΕΛΟΚΗΠΟΙ</td>\n",
              "      <td>37.98903</td>\n",
              "      <td>23.76448</td>\n",
              "      <td>Entire home/apt</td>\n",
              "      <td>$60.00</td>\n",
              "      <td>1</td>\n",
              "      <td>73</td>\n",
              "      <td>30</td>\n",
              "      <td>7</td>\n",
              "      <td>0.19</td>\n",
              "    </tr>\n",
              "    <tr>\n",
              "      <th>4</th>\n",
              "      <td>3745284</td>\n",
              "      <td>Athens, Attica, Greece</td>\n",
              "      <td>ΜΟΥΣΕΙΟ-ΕΞΑΡΧΕΙΑ-ΝΕΑΠΟΛΗ</td>\n",
              "      <td>37.98985</td>\n",
              "      <td>23.73779</td>\n",
              "      <td>Entire home/apt</td>\n",
              "      <td>$35.00</td>\n",
              "      <td>3</td>\n",
              "      <td>152</td>\n",
              "      <td>514</td>\n",
              "      <td>2</td>\n",
              "      <td>3.87</td>\n",
              "    </tr>\n",
              "  </tbody>\n",
              "</table>\n",
              "</div>\n",
              "    <div class=\"colab-df-buttons\">\n",
              "\n",
              "  <div class=\"colab-df-container\">\n",
              "    <button class=\"colab-df-convert\" onclick=\"convertToInteractive('df-be11c419-b43f-4463-867c-5c96417816af')\"\n",
              "            title=\"Convert this dataframe to an interactive table.\"\n",
              "            style=\"display:none;\">\n",
              "\n",
              "  <svg xmlns=\"http://www.w3.org/2000/svg\" height=\"24px\" viewBox=\"0 -960 960 960\">\n",
              "    <path d=\"M120-120v-720h720v720H120Zm60-500h600v-160H180v160Zm220 220h160v-160H400v160Zm0 220h160v-160H400v160ZM180-400h160v-160H180v160Zm440 0h160v-160H620v160ZM180-180h160v-160H180v160Zm440 0h160v-160H620v160Z\"/>\n",
              "  </svg>\n",
              "    </button>\n",
              "\n",
              "  <style>\n",
              "    .colab-df-container {\n",
              "      display:flex;\n",
              "      gap: 12px;\n",
              "    }\n",
              "\n",
              "    .colab-df-convert {\n",
              "      background-color: #E8F0FE;\n",
              "      border: none;\n",
              "      border-radius: 50%;\n",
              "      cursor: pointer;\n",
              "      display: none;\n",
              "      fill: #1967D2;\n",
              "      height: 32px;\n",
              "      padding: 0 0 0 0;\n",
              "      width: 32px;\n",
              "    }\n",
              "\n",
              "    .colab-df-convert:hover {\n",
              "      background-color: #E2EBFA;\n",
              "      box-shadow: 0px 1px 2px rgba(60, 64, 67, 0.3), 0px 1px 3px 1px rgba(60, 64, 67, 0.15);\n",
              "      fill: #174EA6;\n",
              "    }\n",
              "\n",
              "    .colab-df-buttons div {\n",
              "      margin-bottom: 4px;\n",
              "    }\n",
              "\n",
              "    [theme=dark] .colab-df-convert {\n",
              "      background-color: #3B4455;\n",
              "      fill: #D2E3FC;\n",
              "    }\n",
              "\n",
              "    [theme=dark] .colab-df-convert:hover {\n",
              "      background-color: #434B5C;\n",
              "      box-shadow: 0px 1px 3px 1px rgba(0, 0, 0, 0.15);\n",
              "      filter: drop-shadow(0px 1px 2px rgba(0, 0, 0, 0.3));\n",
              "      fill: #FFFFFF;\n",
              "    }\n",
              "  </style>\n",
              "\n",
              "    <script>\n",
              "      const buttonEl =\n",
              "        document.querySelector('#df-be11c419-b43f-4463-867c-5c96417816af button.colab-df-convert');\n",
              "      buttonEl.style.display =\n",
              "        google.colab.kernel.accessAllowed ? 'block' : 'none';\n",
              "\n",
              "      async function convertToInteractive(key) {\n",
              "        const element = document.querySelector('#df-be11c419-b43f-4463-867c-5c96417816af');\n",
              "        const dataTable =\n",
              "          await google.colab.kernel.invokeFunction('convertToInteractive',\n",
              "                                                    [key], {});\n",
              "        if (!dataTable) return;\n",
              "\n",
              "        const docLinkHtml = 'Like what you see? Visit the ' +\n",
              "          '<a target=\"_blank\" href=https://colab.research.google.com/notebooks/data_table.ipynb>data table notebook</a>'\n",
              "          + ' to learn more about interactive tables.';\n",
              "        element.innerHTML = '';\n",
              "        dataTable['output_type'] = 'display_data';\n",
              "        await google.colab.output.renderOutput(dataTable, element);\n",
              "        const docLink = document.createElement('div');\n",
              "        docLink.innerHTML = docLinkHtml;\n",
              "        element.appendChild(docLink);\n",
              "      }\n",
              "    </script>\n",
              "  </div>\n",
              "\n",
              "\n",
              "<div id=\"df-57b2ba75-d72a-4573-b5dd-f4f5cff2f8f1\">\n",
              "  <button class=\"colab-df-quickchart\" onclick=\"quickchart('df-57b2ba75-d72a-4573-b5dd-f4f5cff2f8f1')\"\n",
              "            title=\"Suggest charts\"\n",
              "            style=\"display:none;\">\n",
              "\n",
              "<svg xmlns=\"http://www.w3.org/2000/svg\" height=\"24px\"viewBox=\"0 0 24 24\"\n",
              "     width=\"24px\">\n",
              "    <g>\n",
              "        <path d=\"M19 3H5c-1.1 0-2 .9-2 2v14c0 1.1.9 2 2 2h14c1.1 0 2-.9 2-2V5c0-1.1-.9-2-2-2zM9 17H7v-7h2v7zm4 0h-2V7h2v10zm4 0h-2v-4h2v4z\"/>\n",
              "    </g>\n",
              "</svg>\n",
              "  </button>\n",
              "\n",
              "<style>\n",
              "  .colab-df-quickchart {\n",
              "      --bg-color: #E8F0FE;\n",
              "      --fill-color: #1967D2;\n",
              "      --hover-bg-color: #E2EBFA;\n",
              "      --hover-fill-color: #174EA6;\n",
              "      --disabled-fill-color: #AAA;\n",
              "      --disabled-bg-color: #DDD;\n",
              "  }\n",
              "\n",
              "  [theme=dark] .colab-df-quickchart {\n",
              "      --bg-color: #3B4455;\n",
              "      --fill-color: #D2E3FC;\n",
              "      --hover-bg-color: #434B5C;\n",
              "      --hover-fill-color: #FFFFFF;\n",
              "      --disabled-bg-color: #3B4455;\n",
              "      --disabled-fill-color: #666;\n",
              "  }\n",
              "\n",
              "  .colab-df-quickchart {\n",
              "    background-color: var(--bg-color);\n",
              "    border: none;\n",
              "    border-radius: 50%;\n",
              "    cursor: pointer;\n",
              "    display: none;\n",
              "    fill: var(--fill-color);\n",
              "    height: 32px;\n",
              "    padding: 0;\n",
              "    width: 32px;\n",
              "  }\n",
              "\n",
              "  .colab-df-quickchart:hover {\n",
              "    background-color: var(--hover-bg-color);\n",
              "    box-shadow: 0 1px 2px rgba(60, 64, 67, 0.3), 0 1px 3px 1px rgba(60, 64, 67, 0.15);\n",
              "    fill: var(--button-hover-fill-color);\n",
              "  }\n",
              "\n",
              "  .colab-df-quickchart-complete:disabled,\n",
              "  .colab-df-quickchart-complete:disabled:hover {\n",
              "    background-color: var(--disabled-bg-color);\n",
              "    fill: var(--disabled-fill-color);\n",
              "    box-shadow: none;\n",
              "  }\n",
              "\n",
              "  .colab-df-spinner {\n",
              "    border: 2px solid var(--fill-color);\n",
              "    border-color: transparent;\n",
              "    border-bottom-color: var(--fill-color);\n",
              "    animation:\n",
              "      spin 1s steps(1) infinite;\n",
              "  }\n",
              "\n",
              "  @keyframes spin {\n",
              "    0% {\n",
              "      border-color: transparent;\n",
              "      border-bottom-color: var(--fill-color);\n",
              "      border-left-color: var(--fill-color);\n",
              "    }\n",
              "    20% {\n",
              "      border-color: transparent;\n",
              "      border-left-color: var(--fill-color);\n",
              "      border-top-color: var(--fill-color);\n",
              "    }\n",
              "    30% {\n",
              "      border-color: transparent;\n",
              "      border-left-color: var(--fill-color);\n",
              "      border-top-color: var(--fill-color);\n",
              "      border-right-color: var(--fill-color);\n",
              "    }\n",
              "    40% {\n",
              "      border-color: transparent;\n",
              "      border-right-color: var(--fill-color);\n",
              "      border-top-color: var(--fill-color);\n",
              "    }\n",
              "    60% {\n",
              "      border-color: transparent;\n",
              "      border-right-color: var(--fill-color);\n",
              "    }\n",
              "    80% {\n",
              "      border-color: transparent;\n",
              "      border-right-color: var(--fill-color);\n",
              "      border-bottom-color: var(--fill-color);\n",
              "    }\n",
              "    90% {\n",
              "      border-color: transparent;\n",
              "      border-bottom-color: var(--fill-color);\n",
              "    }\n",
              "  }\n",
              "</style>\n",
              "\n",
              "  <script>\n",
              "    async function quickchart(key) {\n",
              "      const quickchartButtonEl =\n",
              "        document.querySelector('#' + key + ' button');\n",
              "      quickchartButtonEl.disabled = true;  // To prevent multiple clicks.\n",
              "      quickchartButtonEl.classList.add('colab-df-spinner');\n",
              "      try {\n",
              "        const charts = await google.colab.kernel.invokeFunction(\n",
              "            'suggestCharts', [key], {});\n",
              "      } catch (error) {\n",
              "        console.error('Error during call to suggestCharts:', error);\n",
              "      }\n",
              "      quickchartButtonEl.classList.remove('colab-df-spinner');\n",
              "      quickchartButtonEl.classList.add('colab-df-quickchart-complete');\n",
              "    }\n",
              "    (() => {\n",
              "      let quickchartButtonEl =\n",
              "        document.querySelector('#df-57b2ba75-d72a-4573-b5dd-f4f5cff2f8f1 button');\n",
              "      quickchartButtonEl.style.display =\n",
              "        google.colab.kernel.accessAllowed ? 'block' : 'none';\n",
              "    })();\n",
              "  </script>\n",
              "</div>\n",
              "    </div>\n",
              "  </div>\n"
            ]
          },
          "metadata": {},
          "execution_count": 86
        }
      ]
    },
    {
      "cell_type": "code",
      "source": [],
      "metadata": {
        "colab": {
          "base_uri": "https://localhost:8080/"
        },
        "id": "hBMZszaaMTXp",
        "outputId": "de08a525-e6cb-48ab-f31c-fa4f0fb898db"
      },
      "execution_count": 88,
      "outputs": [
        {
          "output_type": "execute_result",
          "data": {
            "text/plain": [
              "(12955, 12)"
            ]
          },
          "metadata": {},
          "execution_count": 88
        }
      ]
    }
  ]
}